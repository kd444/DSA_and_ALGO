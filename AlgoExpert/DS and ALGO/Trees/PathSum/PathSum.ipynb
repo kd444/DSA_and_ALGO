{
 "cells": [
  {
   "cell_type": "code",
   "execution_count": null,
   "metadata": {},
   "outputs": [],
   "source": [
    "def hasPathSum(Self,root:Optional[TreeNode],targetSum:int)->bool:    \n",
    "    def dfs(node,curSum,targetSum):\n",
    "        if not node:\n",
    "            return False\n",
    "        curSum+= node.val\n",
    "        # if no children return after checking targetsum reached or not                                                                                                                                                                                                                                                                                                                                                                                                                                                                     \n",
    "        if not node.left and not node.right:\n",
    "            # if current sum not euqual to target sum than run DFS on left and right node \n",
    "            return curSum==targetSum    \n",
    "        # return dfs(node.left,curSum) or  dfs(node.left,curSum)   \n",
    "        if dfs(node.left,curSum):\n",
    "            return True\n",
    "        if dfs(node.right,curSum):\n",
    "            return True     \n",
    "    return dfs(root,0) \n",
    "\n",
    "    "
   ]
  }
 ],
 "metadata": {
  "language_info": {
   "name": "python"
  },
  "orig_nbformat": 4
 },
 "nbformat": 4,
 "nbformat_minor": 2
}
