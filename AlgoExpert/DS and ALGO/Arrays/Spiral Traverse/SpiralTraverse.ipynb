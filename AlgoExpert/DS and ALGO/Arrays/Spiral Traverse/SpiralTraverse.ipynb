{
 "cells": [
  {
   "cell_type": "code",
   "execution_count": null,
   "metadata": {},
   "outputs": [],
   "source": [
    "def SpiralTraverse(matrix):\n",
    "    result=[]\n",
    "    spiralfill(matrix,0,len(matrix)-1,0,len(matrix[0])-1,result)\n",
    "    return result\n",
    "def spiralfill(matrix,startRow,endRow,startCol,endCol,result):\n",
    "    if startRow >endRow or startCol >endCol:\n",
    "        return \n",
    "    for col in range(startCol,endCol+1):\n",
    "        result.append(matrix[startRow][col])\n",
    "    for row in range(startRow+1,endRow+1):\n",
    "        result.append(matrix[row][endCol])\n",
    "    for col in reversed(range(startCol,endCol)):\n",
    "        if startRow == endRow:\n",
    "            break\n",
    "        result.append(matrix[endRow][col])\n",
    "    for row in reversed(range(startRow+1,endRow)):\n",
    "        if startCol==endCol:\n",
    "            break\n",
    "        result.append(matrix[row][startCol])     \n",
    "    spiralfill(matrix,startRow+1,endRow-1,startCol+1,endCol-1,result)"
   ]
  },
  {
   "cell_type": "code",
   "execution_count": null,
   "metadata": {},
   "outputs": [],
   "source": []
  }
 ],
 "metadata": {
  "language_info": {
   "name": "python"
  },
  "orig_nbformat": 4
 },
 "nbformat": 4,
 "nbformat_minor": 2
}
