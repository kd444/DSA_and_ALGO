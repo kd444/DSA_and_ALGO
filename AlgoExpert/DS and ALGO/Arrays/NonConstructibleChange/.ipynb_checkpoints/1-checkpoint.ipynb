{
 "cells": [
  {
   "cell_type": "code",
   "execution_count": 32,
   "metadata": {},
   "outputs": [],
   "source": [
    "coins=[5, 7, 1, 1, 2, 3, 22]\n",
    "\n",
    "def nonConstructibleChange(coins):\n",
    "    sum=0\n",
    "    sum2=0\n",
    "    sumarray = []\n",
    "    for element in coins:\n",
    "       sum2+= element\n",
    "       sumarray.append(sum2)\n",
    "       coins.sort()\n",
    "       print(sumarray)\n",
    "    for element in sumarray:    \n",
    "        print(\"second loop\")\n",
    "        if element in coins and element!=0:\n",
    "          continue\n",
    "        \n",
    "        else:\n",
    "           print(\"else\")\n",
    "           return element\n",
    "        \n",
    "\n",
    "       \n",
    "    # Write your code here."
   ]
  },
  {
   "cell_type": "code",
   "execution_count": 33,
   "metadata": {},
   "outputs": [
    {
     "name": "stdout",
     "output_type": "stream",
     "text": [
      "[5]\n",
      "[5, 6]\n",
      "[5, 6, 8]\n",
      "[5, 6, 8, 11]\n",
      "[5, 6, 8, 11, 16]\n",
      "[5, 6, 8, 11, 16, 23]\n",
      "[5, 6, 8, 11, 16, 23, 45]\n",
      "second loop\n",
      "second loop\n",
      "else\n"
     ]
    },
    {
     "data": {
      "text/plain": [
       "6"
      ]
     },
     "execution_count": 33,
     "metadata": {},
     "output_type": "execute_result"
    }
   ],
   "source": [
    "nonConstructibleChange(coins)"
   ]
  },
  {
   "cell_type": "code",
   "execution_count": null,
   "metadata": {},
   "outputs": [],
   "source": []
  },
  {
   "cell_type": "code",
   "execution_count": null,
   "metadata": {},
   "outputs": [],
   "source": []
  }
 ],
 "metadata": {
  "kernelspec": {
   "display_name": "Python 3",
   "language": "python",
   "name": "python3"
  },
  "language_info": {
   "codemirror_mode": {
    "name": "ipython",
    "version": 3
   },
   "file_extension": ".py",
   "mimetype": "text/x-python",
   "name": "python",
   "nbconvert_exporter": "python",
   "pygments_lexer": "ipython3",
   "version": "3.8.8"
  }
 },
 "nbformat": 4,
 "nbformat_minor": 2
}
