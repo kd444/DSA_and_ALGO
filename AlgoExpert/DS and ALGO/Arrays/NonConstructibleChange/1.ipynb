{
 "cells": [
  {
   "cell_type": "code",
   "execution_count": 12,
   "metadata": {},
   "outputs": [],
   "source": [
    "coins=[5, 7, 1, 1, 2, 3, 22]\n",
    "\n",
    "def nonConstructibleChange(coins):\n",
    "   \n",
    "   coins.sort()\n",
    "   changecreated=0\n",
    "   for element in coins:\n",
    "      if changecreated + 1 < element:\n",
    "          return changecreated + 1 \n",
    "      changecreated +=element \n",
    "   return changecreated + 1  \n",
    "\n",
    "\n",
    "       \n",
    "    # Write your code here."
   ]
  },
  {
   "cell_type": "code",
   "execution_count": 13,
   "metadata": {},
   "outputs": [
    {
     "data": {
      "text/plain": [
       "20"
      ]
     },
     "execution_count": 13,
     "metadata": {},
     "output_type": "execute_result"
    }
   ],
   "source": [
    "nonConstructibleChange(coins)"
   ]
  },
  {
   "cell_type": "code",
   "execution_count": 14,
   "metadata": {},
   "outputs": [
    {
     "data": {
      "text/plain": [
       "[1, 1, 2]"
      ]
     },
     "execution_count": 14,
     "metadata": {},
     "output_type": "execute_result"
    }
   ],
   "source": [
    "# approach\n",
    "# the vaue in array > amount of change we can make from previous coins +1\n",
    "19 +1 <22\n",
    "# why + 1 in if ?\n",
    "# the next element  even if greater is not the value that comes next to  sum of previous valuess +1 \n",
    "# ex:\n",
    "# [1,1,4]\n",
    "# change =2 \n",
    "# change +1 <4\n",
    "# wont be able to make one increment more than sum of previous values  as it is sorted and you wont have 1 again after \n",
    "# that value unless its all 1 in that case u will return the sum of all ones + 1\n",
    "# if one increment more than sum of previous valuess less or equal to the next value than we can always make it \n",
    "[1,1,2] or [1,1,3]\n",
    "# [1,1,1]>>return +1 change created would be sum of all the coins so out of teh for loop return change+1 "
   ]
  },
  {
   "cell_type": "code",
   "execution_count": null,
   "metadata": {},
   "outputs": [],
   "source": []
  }
 ],
 "metadata": {
  "kernelspec": {
   "display_name": "Python 3",
   "language": "python",
   "name": "python3"
  },
  "language_info": {
   "codemirror_mode": {
    "name": "ipython",
    "version": 3
   },
   "file_extension": ".py",
   "mimetype": "text/x-python",
   "name": "python",
   "nbconvert_exporter": "python",
   "pygments_lexer": "ipython3",
   "version": "3.9.7"
  }
 },
 "nbformat": 4,
 "nbformat_minor": 2
}
