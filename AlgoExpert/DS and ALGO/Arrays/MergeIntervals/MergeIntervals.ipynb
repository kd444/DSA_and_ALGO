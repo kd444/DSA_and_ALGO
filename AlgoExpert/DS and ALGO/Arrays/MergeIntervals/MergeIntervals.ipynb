{
 "cells": [
  {
   "cell_type": "code",
   "execution_count": 2,
   "metadata": {},
   "outputs": [],
   "source": [
    "# q.Given an array of intervals where intervals[i] = [starti, endi], merge all overlapping intervals,\n",
    "#  and return an array of the non-overlapping intervals that cover all the intervals in the input.\n",
    "\n",
    "\n",
    "# end of 1>= start of 2 =>overlap\n",
    "# sort so we compare the correct interval\n",
    "#  Example 1:\n",
    "\n",
    "# Input: intervals = [[1,3],[2,6],[8,10],[15,18]]\n",
    "# Output: [[1,6],[8,10],[15,18]]\n",
    "# Explanation: Since intervals [1,3] and [2,6] overlaps, merge them into [1,6].\n",
    "\n",
    "# Example 2:\n",
    "# Input: intervals = [[1,4],[4,5]]\n",
    "# Output: [[1,5]]\n",
    "# Explanation: Intervals [1,4] and [4,5] are considered overlapping.\n",
    "\n",
    "# Constraints:\n",
    "\n",
    "# 1 <= intervals.length <= 104\n",
    "# intervals[i].length == 2\n",
    "# 0 <= starti <= endi <= 104"
   ]
  },
  {
   "cell_type": "code",
   "execution_count": 7,
   "metadata": {},
   "outputs": [
    {
     "ename": "TypeError",
     "evalue": "'>=' not supported between instances of 'list' and 'int'",
     "output_type": "error",
     "traceback": [
      "\u001b[1;31m---------------------------------------------------------------------------\u001b[0m",
      "\u001b[1;31mTypeError\u001b[0m                                 Traceback (most recent call last)",
      "\u001b[1;32m~\\AppData\\Local\\Temp/ipykernel_26128/90766230.py\u001b[0m in \u001b[0;36m<module>\u001b[1;34m\u001b[0m\n\u001b[0;32m     24\u001b[0m   \u001b[1;33m[\u001b[0m\u001b[1;36m9\u001b[0m\u001b[1;33m,\u001b[0m \u001b[1;36m10\u001b[0m\u001b[1;33m]\u001b[0m\u001b[1;33m\u001b[0m\u001b[1;33m\u001b[0m\u001b[0m\n\u001b[0;32m     25\u001b[0m ]\n\u001b[1;32m---> 26\u001b[1;33m \u001b[0mmergeOverLappingIntervals\u001b[0m\u001b[1;33m(\u001b[0m\u001b[0marr\u001b[0m\u001b[1;33m)\u001b[0m\u001b[1;33m\u001b[0m\u001b[1;33m\u001b[0m\u001b[0m\n\u001b[0m",
      "\u001b[1;32m~\\AppData\\Local\\Temp/ipykernel_26128/90766230.py\u001b[0m in \u001b[0;36mmergeOverLappingIntervals\u001b[1;34m(intervals)\u001b[0m\n\u001b[0;32m      9\u001b[0m         \u001b[0mnextIntervalStart\u001b[0m\u001b[1;33m,\u001b[0m \u001b[0mnextIntervalEnd\u001b[0m\u001b[1;33m=\u001b[0m \u001b[0mnextInterval\u001b[0m\u001b[1;33m\u001b[0m\u001b[1;33m\u001b[0m\u001b[0m\n\u001b[0;32m     10\u001b[0m \u001b[1;33m\u001b[0m\u001b[0m\n\u001b[1;32m---> 11\u001b[1;33m         \u001b[1;32mif\u001b[0m \u001b[0mcurrentInterval\u001b[0m \u001b[1;33m>=\u001b[0m \u001b[0mnextIntervalStart\u001b[0m\u001b[1;33m:\u001b[0m\u001b[1;33m\u001b[0m\u001b[1;33m\u001b[0m\u001b[0m\n\u001b[0m\u001b[0;32m     12\u001b[0m             \u001b[0mcurrentInterval\u001b[0m\u001b[1;33m[\u001b[0m\u001b[1;36m1\u001b[0m\u001b[1;33m]\u001b[0m \u001b[1;33m=\u001b[0m \u001b[0mmax\u001b[0m\u001b[1;33m(\u001b[0m\u001b[0mcurrentIntervalEnd\u001b[0m\u001b[1;33m,\u001b[0m\u001b[0mnextIntervalEnd\u001b[0m\u001b[1;33m)\u001b[0m\u001b[1;33m\u001b[0m\u001b[1;33m\u001b[0m\u001b[0m\n\u001b[0;32m     13\u001b[0m         \u001b[1;32melse\u001b[0m\u001b[1;33m:\u001b[0m\u001b[1;33m\u001b[0m\u001b[1;33m\u001b[0m\u001b[0m\n",
      "\u001b[1;31mTypeError\u001b[0m: '>=' not supported between instances of 'list' and 'int'"
     ]
    }
   ],
   "source": [
    "def mergeOverLappingIntervals(intervals):\n",
    "    sortedIntervals = sorted(intervals,  key=lambda x: x[0])\n",
    "    mergedIntervals =[]\n",
    "    currentInterval= sortedIntervals[0]\n",
    "    mergedIntervals.append(currentInterval)\n",
    "\n",
    "    for nextInterval in sortedIntervals:\n",
    "        _, currentIntervalEnd = currentInterval\n",
    "        nextIntervalStart, nextIntervalEnd= nextInterval\n",
    "\n",
    "        if currentIntervalEnd >= nextIntervalStart:\n",
    "            currentInterval[1] = max(currentIntervalEnd,nextIntervalEnd)\n",
    "        else:\n",
    "            currentInterval = nextInterval\n",
    "            mergedIntervals.append(currentInterval)\n",
    "\n",
    "    return mergedIntervals        \n",
    "\n",
    "arr= [\n",
    "  [1, 2],\n",
    "  [3, 5],\n",
    "  [4, 7],\n",
    "  [6, 8],\n",
    "  [9, 10]\n",
    "]\n",
    "mergeOverLappingIntervals(arr)\n"
   ]
  },
  {
   "cell_type": "code",
   "execution_count": null,
   "metadata": {},
   "outputs": [],
   "source": [
    "# what did i learn ?\n",
    "# sorted(iterable, key=key, reverse=reverse)\n",
    "# iterable\tRequired. The sequence to sort, list, dictionary, tuple etc.\n",
    "# key\tOptional. A Function to execute to decide the order. Default is None\n",
    "# reverse\tOptional. A Boolean. False will sort ascending, True will sort descending. Default is False\n",
    "# sorted function \n",
    "a = [\"tim\", \"bob\", \"anna\", \"steve\", \"john\"]\n",
    "\n",
    "# sorts the list by the first letter of each name\n",
    "b = sorted(a, key=lambda x : x[0])\n",
    "# x = each of the values in the list a\n"
   ]
  }
 ],
 "metadata": {
  "interpreter": {
   "hash": "63fd5069d213b44bf678585dea6b12cceca9941eaf7f819626cde1f2670de90d"
  },
  "kernelspec": {
   "display_name": "Python 3.9.7 64-bit",
   "language": "python",
   "name": "python3"
  },
  "language_info": {
   "codemirror_mode": {
    "name": "ipython",
    "version": 3
   },
   "file_extension": ".py",
   "mimetype": "text/x-python",
   "name": "python",
   "nbconvert_exporter": "python",
   "pygments_lexer": "ipython3",
   "version": "3.9.7"
  },
  "orig_nbformat": 4
 },
 "nbformat": 4,
 "nbformat_minor": 2
}
