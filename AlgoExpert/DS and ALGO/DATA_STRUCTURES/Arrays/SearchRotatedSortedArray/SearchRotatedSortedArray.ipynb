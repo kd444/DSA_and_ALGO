{
 "cells": [
  {
   "cell_type": "code",
   "execution_count": null,
   "metadata": {},
   "outputs": [],
   "source": [
    "# There is an integer array nums sorted in ascending order (with distinct values).\n",
    "\n",
    "# Prior to being passed to your function, nums is possibly rotated at an unknown pivot index k (1 <= k < nums.length) such that the resulting array is [nums[k], nums[k+1], ..., nums[n-1], nums[0], nums[1], ..., nums[k-1]] (0-indexed). For example, [0,1,2,4,5,6,7] might be rotated at pivot index 3 and become [4,5,6,7,0,1,2].\n",
    "\n",
    "# Given the array nums after the possible rotation and an integer target, return the index of target if it is in nums, or -1 if it is not in nums.\n",
    "\n",
    "# You must write an algorithm with O(log n) runtime complexity.\n",
    "\n",
    " \n",
    "\n",
    "# Example 1:\n",
    "\n",
    "# Input: nums = [4,5,6,7,0,1,2], target = 0\n",
    "# Output: 4"
   ]
  },
  {
   "cell_type": "code",
   "execution_count": null,
   "metadata": {},
   "outputs": [],
   "source": [
    "def search(self,nums,target):\n",
    "    l,r=0,len(nums)-1\n",
    "    while l <=r:\n",
    "        mid = (l+r)//2\n",
    "        if target == nums[mid]:\n",
    "            return mid\n",
    "            # left sorted portion\n",
    "        if nums[l]<=nums[mid]:\n",
    "            if target > nums[mid] or target< nums[l]:\n",
    "                l= mid+1\n",
    "            else:\n",
    "                r= mid -1\n",
    "            # right sorted portion\n",
    "        else:\n",
    "            if target <nums[mid] or target >nums[r]:\n",
    "                r = mid -1\n",
    "            else:\n",
    "                l= mid+1\n",
    "    return -1               "
   ]
  }
 ],
 "metadata": {
  "language_info": {
   "name": "python"
  },
  "orig_nbformat": 4
 },
 "nbformat": 4,
 "nbformat_minor": 2
}
