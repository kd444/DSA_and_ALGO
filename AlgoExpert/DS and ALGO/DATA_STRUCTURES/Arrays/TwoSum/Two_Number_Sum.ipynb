{
 "cells": [
  {
   "cell_type": "code",
   "execution_count": 11,
   "metadata": {},
   "outputs": [
    {
     "data": {
      "text/plain": [
       "[1, 4]"
      ]
     },
     "execution_count": 11,
     "metadata": {},
     "output_type": "execute_result"
    }
   ],
   "source": [
    "# two for loops\n",
    "def twoNumberSum(array, targetSum):\n",
    "    # Write your code here.\n",
    "    for i in range(1,len(array)-1):\n",
    "        for j in range(i+1,len(array)-1):\n",
    "            if i + j == targetSum:\n",
    "                return [i,j]\n",
    "twoNumberSum([1,4,3,5,8,3,4,21,5,6],5)"
   ]
  },
  {
   "cell_type": "code",
   "execution_count": 3,
   "metadata": {},
   "outputs": [
    {
     "data": {
      "text/plain": [
       "[0, 1]"
      ]
     },
     "execution_count": 3,
     "metadata": {},
     "output_type": "execute_result"
    }
   ],
   "source": [
    "# using hashmap\n",
    "def twoSum(nums,target):\n",
    "    previousMap={}\n",
    "    for i,n in enumerate(nums):\n",
    "        diff= target -n\n",
    "        if diff in previousMap:\n",
    "            return [previousMap[diff],i]\n",
    "        previousMap[n]=i\n",
    "    return \n",
    "twoSum([1,4,3,5,8,3,4,21,5,6],5)        "
   ]
  },
  {
   "cell_type": "code",
   "execution_count": 2,
   "metadata": {},
   "outputs": [],
   "source": [
    "\n",
    "# Two sum 2 , input array sorted \n",
    "def twoSum(numbers,target):\n",
    "    l, r = 0, len(numbers) - 1\n",
    "    while l < r:\n",
    "        curSum = numbers[l] + numbers[r]\n",
    "        if curSum > target:\n",
    "            r -= 1\n",
    "        elif curSum < target:\n",
    "            l+= 1\n",
    "        else:\n",
    "            return [l + 1, r + 1]\n",
    "nums = [3,2,4]\n",
    "target = 6    \n",
    "\n",
    "twoSum(nums,target)\n"
   ]
  },
  {
   "cell_type": "code",
   "execution_count": 1,
   "metadata": {},
   "outputs": [],
   "source": [
    "# Explanation\n",
    "# we can do it with 2 for loops and find the target sum given by adding both , but the value we are looking for is the difference between first element and the taget sum \n",
    "# so we dont need two for loops or add 2 elements , we just need index of ( target sum - first element )\n",
    "# so we need to store all elements \n",
    "# but to store elements and return index easily hashmpap is better and we can start with empty hashmap and while adding check if ( target sum - first element ) is present\n",
    "#  if present return index for both if not store it "
   ]
  },
  {
   "cell_type": "code",
   "execution_count": 3,
   "metadata": {},
   "outputs": [
    {
     "name": "stdout",
     "output_type": "stream",
     "text": [
      "{1: 0}\n",
      "{1: 0, 4: 1}\n",
      "{1: 0, 4: 1, 3: 2}\n"
     ]
    },
    {
     "data": {
      "text/plain": [
       "[1, 3]"
      ]
     },
     "execution_count": 3,
     "metadata": {},
     "output_type": "execute_result"
    }
   ],
   "source": [
    "\n",
    "# using hashmap\n",
    "def twoSum(nums,target):\n",
    "    previousMap={}\n",
    "    for i,n in enumerate(nums):\n",
    "        diff= target -n\n",
    "        if diff in previousMap:\n",
    "            return [previousMap[diff],i]\n",
    "        previousMap[n]=i\n",
    "        print(previousMap)\n",
    "    return \n",
    "twoSum([1,4,3,5,8,3,4,21,5,6],9)        "
   ]
  },
  {
   "cell_type": "code",
   "execution_count": null,
   "metadata": {},
   "outputs": [],
   "source": [
    "def twoSum ( nums , target):\n",
    "    previousMap = {}\n",
    "    for i,n in e"
   ]
  }
 ],
 "metadata": {
  "kernelspec": {
   "display_name": "Python 3.9.7 64-bit",
   "language": "python",
   "name": "python3"
  },
  "language_info": {
   "codemirror_mode": {
    "name": "ipython",
    "version": 3
   },
   "file_extension": ".py",
   "mimetype": "text/x-python",
   "name": "python",
   "nbconvert_exporter": "python",
   "pygments_lexer": "ipython3",
   "version": "3.11.4"
  },
  "vscode": {
   "interpreter": {
    "hash": "81794d4967e6c3204c66dcd87b604927b115b27c00565d3d43f05ba2f3a2cb0d"
   }
  }
 },
 "nbformat": 4,
 "nbformat_minor": 2
}
