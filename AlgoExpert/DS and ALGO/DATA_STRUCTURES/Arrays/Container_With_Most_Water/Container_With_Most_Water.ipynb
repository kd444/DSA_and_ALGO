{
 "cells": [
  {
   "cell_type": "code",
   "execution_count": null,
   "metadata": {},
   "outputs": [],
   "source": [
    "def maxArea(self,height):\n",
    "#Linear time soultion O(n)\n",
    "    res = 0\n",
    "    l,r=0,len(height)-1\n",
    "\n",
    "    while l <r:\n",
    "        area= (r-l)* min(height[l],height[r])\n",
    "        res = max(res,area)\n",
    "\n",
    "        if(height[l]<height[r]):\n",
    "            l +=1\n",
    "        else:\n",
    "            r -=1\n",
    "    return res\n"
   ]
  }
 ],
 "metadata": {
  "language_info": {
   "name": "python"
  },
  "orig_nbformat": 4
 },
 "nbformat": 4,
 "nbformat_minor": 2
}
