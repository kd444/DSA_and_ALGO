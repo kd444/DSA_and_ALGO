{
 "cells": [
  {
   "cell_type": "code",
   "execution_count": null,
   "metadata": {},
   "outputs": [],
   "source": [
    "# Given an integer array nums, return true if any value appears at least \n",
    "# twice in the array, and return false if every element is distinct.\n",
    "\n",
    " \n",
    "# Example 1:\n",
    "\n",
    "# Input: nums = [1,2,3,1]\n",
    "# Output: true"
   ]
  },
  {
   "cell_type": "code",
   "execution_count": 6,
   "metadata": {},
   "outputs": [
    {
     "name": "stdout",
     "output_type": "stream",
     "text": [
      "False\n"
     ]
    }
   ],
   "source": [
    "# 1st solution , brute force  , T : O(n²)\n",
    "# 2nd solution  , sort the array ,check adjacent shift pointers extra time complexity is nlogn due to sorting , so O(n) + nlogn \n",
    "# 3rd solution , prepare a Hash set if not present add if present return , as we scan through all elements in list ,T: O(n) , space complexity can also go upto O(n) so all elemnts \n",
    "\n",
    "def containsDuplicate(nums):\n",
    "    hashset = set()\n",
    "\n",
    "    for n in nums:\n",
    "        if n in hashset:\n",
    "            return True\n",
    "        hashset.add(n)\n",
    "    return False\n",
    "\n",
    "nums = [1,2,3,4,5,6]\n",
    "print(containsDuplicate(nums));"
   ]
  }
 ],
 "metadata": {
  "kernelspec": {
   "display_name": "Python 3",
   "language": "python",
   "name": "python3"
  },
  "language_info": {
   "codemirror_mode": {
    "name": "ipython",
    "version": 3
   },
   "file_extension": ".py",
   "mimetype": "text/x-python",
   "name": "python",
   "nbconvert_exporter": "python",
   "pygments_lexer": "ipython3",
   "version": "3.11.4"
  },
  "orig_nbformat": 4
 },
 "nbformat": 4,
 "nbformat_minor": 2
}
