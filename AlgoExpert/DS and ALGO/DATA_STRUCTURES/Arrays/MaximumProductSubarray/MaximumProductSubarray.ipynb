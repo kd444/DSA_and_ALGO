{
 "cells": [
  {
   "cell_type": "code",
   "execution_count": null,
   "metadata": {},
   "outputs": [],
   "source": [
    "def maxProduct(self,nums):\n",
    "    res= max(nums)\n",
    "    curMin,curMax=1,1\n",
    "    for n in nums:\n",
    "        if n ==0:\n",
    "            curMin,curMax=1,1\n",
    "            continue\n",
    "        tmp= curMax*n\n",
    "        curMax= max(n*curMax,n*curMin,n)\n",
    "        curMin=min(tmp,n*curMin,n)\n",
    "        res= max(res,curMax)\n",
    "    return res\n"
   ]
  }
 ],
 "metadata": {
  "language_info": {
   "name": "python"
  },
  "orig_nbformat": 4
 },
 "nbformat": 4,
 "nbformat_minor": 2
}
