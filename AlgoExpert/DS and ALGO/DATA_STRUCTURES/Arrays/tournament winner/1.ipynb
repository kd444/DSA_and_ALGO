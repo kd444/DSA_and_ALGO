{
 "cells": [
  {
   "cell_type": "code",
   "execution_count": null,
   "metadata": {},
   "outputs": [],
   "source": [
    "# Tournament Winner\n",
    "\n",
    "# There's an algorithms tournament taking place in which teams of programmers compete against each other to solve algorithmic problems as fast as possible. \n",
    "# Teams compete in a round robin, where each team faces off against all other teams. Only two teams compete against each other at a time,\n",
    "#  and for each competition, one team is designated the home team, while the other team is the away team. In each competition there's\n",
    "#   always one winner and one loser, there are no ties. A team receives 3 points if it wins and 0 points if it loses. The winner of the tournament \n",
    "#   is the team that receives the most amount of points.\n",
    "\n",
    "# Given an array of pairs representing the teams that have competed against each other and an array containing the results of each competition,\n",
    "#  write a function that returns the winner of the tournament. The input arrays are named competitions and results, respectively.\n",
    "#   The competitions array has elements in the form of [homeTeam, awayTeam], where each team is a string of at most 30\n",
    "#    characters representing the name of the team. The results array contains information about the winner of each corresponding competition \n",
    "#    in the competitions array. Specifically, results[i] denotes the winner of competitions[i], where a 1 in the results array means that the home \n",
    "#    team in the corresponding competition won and a means that the away team won.\n",
    "\n",
    "# It's guaranteed that exactly one team will win the tournament and that each team will compete against all other teams exactly once.\n",
    "#  It's also guaranteed that the tournament will always have at least two teams."
   ]
  },
  {
   "cell_type": "markdown",
   "metadata": {},
   "source": [
    "Sample Input\n",
    "\n",
    "competitions = [\n",
    "\n",
    "[\"HTML\", \"C#\"], \n",
    "\n",
    "[\"C#\", \"Python\"],\n",
    "\n",
    "[\"Python\", \"HTML\"],]\n",
    "\n",
    "results = [0, 0, 1]"
   ]
  },
  {
   "cell_type": "code",
   "execution_count": null,
   "metadata": {},
   "outputs": [],
   "source": [
    "# Hint 2\n",
    "\n",
    "# Use a hash table to store the total points collected by each team, with the team names as keys in the hash table. \n",
    "# Once you know how many points each team has, how can you determine which one is the winner?"
   ]
  },
  {
   "cell_type": "code",
   "execution_count": null,
   "metadata": {},
   "outputs": [],
   "source": [
    "# Hint 3\n",
    "\n",
    "# Loop through all of the competitions, and update the hash table at every iteration. For each competition,\n",
    "#  consider the name of the winning team; if the name already exists in the hash table, update that entry by adding 3 points to it.\n",
    "#   If the team name doesn't exist in the hash table, add a new entry in the hash table with the key as the team \n",
    "#   name and the value as 3 (since the team won its first competition). While looping through all of the competitions, \n",
    "#   keep track of the team with the highest score, and at the end of the algorithm, return the team with the highest score."
   ]
  },
  {
   "cell_type": "code",
   "execution_count": null,
   "metadata": {},
   "outputs": [],
   "source": [
    "HOME_TEAM_WON=1\n",
    "\n",
    "def tournamentWinner(competitions,results):\n",
    "    currentBestTeam = \"\"\n",
    "    # so we dont get error when we compare for the first time\n",
    "    scores ={currentBestTeam:0}\n",
    "\n",
    "    for index,competition in enumerate(competitions):\n",
    "        result = results[index]\n",
    "        homeTeam,awayTeam = competition\n",
    "        winningTeam = homeTeam if result == HOME_TEAM_WON else awayTeam\n",
    "\n",
    "        updateScores(winningTeam,3, scores)\n",
    "         \n",
    "         # keeping a track of which is winnig team\n",
    "        if scores[winningTeam]> scores[currentBestTeam]:\n",
    "            currentBestTeam=winningTeam\n",
    "    return currentBestTeam        \n",
    "def updateScores(team,points,scores):\n",
    "    if team not in scores:\n",
    "        scores[team]=0\n",
    "\n",
    "    scores[team] += points\n"
   ]
  }
 ],
 "metadata": {
  "language_info": {
   "name": "python"
  },
  "orig_nbformat": 4
 },
 "nbformat": 4,
 "nbformat_minor": 2
}
