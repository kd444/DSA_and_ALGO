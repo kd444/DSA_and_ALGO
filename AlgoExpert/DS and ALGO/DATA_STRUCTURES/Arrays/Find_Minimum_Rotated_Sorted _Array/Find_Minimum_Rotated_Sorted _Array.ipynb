{
 "cells": [
  {
   "cell_type": "code",
   "execution_count": null,
   "metadata": {},
   "outputs": [],
   "source": [
    "def findMin(self, nums):\n",
    "    res = nums[0]\n",
    "    l,r= 0, len(nums)-1\n",
    "    \n",
    "    while l<=r:\n",
    "        if nums[l]<nums[r]:\n",
    "            res = min(res,nums[l])\n",
    "            break\n",
    "        m = (l+r)//2\n",
    "        res = min(res,nums[m])\n",
    "        if nums[m] >= nums[l]:\n",
    "            l= m +  1\n",
    "        else:\n",
    "            r = m - 1\n",
    "    return res         "
   ]
  }
 ],
 "metadata": {
  "language_info": {
   "name": "python"
  },
  "orig_nbformat": 4
 },
 "nbformat": 4,
 "nbformat_minor": 2
}
