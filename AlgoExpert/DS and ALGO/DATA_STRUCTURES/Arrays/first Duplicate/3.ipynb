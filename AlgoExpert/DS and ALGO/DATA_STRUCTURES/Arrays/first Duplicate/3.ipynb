{
 "cells": [
  {
   "cell_type": "code",
   "execution_count": 22,
   "metadata": {},
   "outputs": [
    {
     "data": {
      "text/plain": [
       "[]"
      ]
     },
     "execution_count": 22,
     "metadata": {},
     "output_type": "execute_result"
    }
   ],
   "source": [
    "# mine\n",
    "def smallestDifference(arrayOne, arrayTwo):\n",
    "\tarr=[]\n",
    "\tinDiff=0\n",
    "    # Write your code here.\n",
    "\tfor x in arrayOne:   \n",
    "\t\tfor y in arrayTwo:\n",
    "\t\t\tif (inDiff > abs(x-y)):               \n",
    "\t\t\t\tinDiff=abs(x-y)\t\n",
    "\t\t\t\tprint(\"ji\")\t\n",
    "\t\t\t\ta=x\n",
    "\t\t\t\tb=y \n",
    "\treturn arr\t\t\n",
    "\t\t\t\t\n",
    "smallestDifference([-1, 5, 10, 20, 28, 3], [26, 134, 135, 15, 17])    "
   ]
  },
  {
   "cell_type": "code",
   "execution_count": null,
   "metadata": {},
   "outputs": [],
   "source": []
  }
 ],
 "metadata": {
  "interpreter": {
   "hash": "63fd5069d213b44bf678585dea6b12cceca9941eaf7f819626cde1f2670de90d"
  },
  "kernelspec": {
   "display_name": "Python 3.9.7 64-bit",
   "name": "python3"
  },
  "language_info": {
   "name": "python",
   "version": "3.9.7"
  },
  "orig_nbformat": 4
 },
 "nbformat": 4,
 "nbformat_minor": 2
}
