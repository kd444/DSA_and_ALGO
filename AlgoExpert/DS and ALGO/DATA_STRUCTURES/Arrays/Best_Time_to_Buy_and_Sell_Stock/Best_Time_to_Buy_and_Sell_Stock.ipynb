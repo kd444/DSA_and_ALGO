{
 "cells": [
  {
   "cell_type": "code",
   "execution_count": null,
   "metadata": {},
   "outputs": [],
   "source": [
    "def maxProfitI(self,prices):\n",
    "    l,r = 0,1\n",
    "    maxP=0\n",
    "    while r < len(prices):\n",
    "        if prices[l]<prices[r]:\n",
    "            profit = prices[r] - prices[l]\n",
    "            maxP = max(maxP,profit)\n",
    "        else:\n",
    "            l=r\n",
    "        r +=1\n",
    "    return maxP\n"
   ]
  }
 ],
 "metadata": {
  "language_info": {
   "name": "python"
  },
  "orig_nbformat": 4
 },
 "nbformat": 4,
 "nbformat_minor": 2
}
