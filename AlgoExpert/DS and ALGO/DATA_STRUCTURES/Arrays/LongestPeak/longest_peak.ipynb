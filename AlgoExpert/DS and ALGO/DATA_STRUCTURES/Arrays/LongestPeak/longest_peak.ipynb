{
 "cells": [
  {
   "cell_type": "code",
   "execution_count": 4,
   "metadata": {},
   "outputs": [
    {
     "data": {
      "text/plain": [
       "6"
      ]
     },
     "execution_count": 4,
     "metadata": {},
     "output_type": "execute_result"
    }
   ],
   "source": [
    "def longestPeak(arr):\n",
    "    longestPeakLength =0\n",
    "    i=1\n",
    "    while i <len(arr) -1:\n",
    "        # compare adjaccent and select the peak\n",
    "        isPeak= arr[i-1]<arr[i] and arr[i]>arr[i+1]\n",
    "        # if not peak increase index of current element\n",
    "        if not isPeak:\n",
    "            i +=1\n",
    "            continue\n",
    "        #  as added one in current index so for left one -2  \n",
    "        leftIdx = i -2\n",
    "        # while the left is smaller than current keep moving left\n",
    "        while leftIdx >=0 and arr[leftIdx] <arr[leftIdx+1]:\n",
    "            leftIdx-=1\n",
    "        rightIdx= i+2 \n",
    "        # while the right is smaller than current keep moving right\n",
    "        while rightIdx<len(arr)  and arr[rightIdx] < arr[rightIdx-1]:\n",
    "            rightIdx +=1\n",
    "        currentPeakLength= rightIdx -leftIdx -1\n",
    "        longestPeakLength =max(longestPeakLength,currentPeakLength)      \n",
    "        i = rightIdx\n",
    "    return longestPeakLength    \n",
    "\n",
    "\n",
    "arr=[1,2,3,3,4,0,10,6,5,-1,-3,2,3]\n",
    "longestPeak(arr)"
   ]
  },
  {
   "cell_type": "code",
   "execution_count": 5,
   "metadata": {},
   "outputs": [],
   "source": [
    "# find all the peaks than see the longest one \n",
    "# find peak by iterating through each  array \n",
    "# must be bigger than both adjacent values\n",
    "# peak continues till next value is smaller\n",
    "# store length \n",
    "\n",
    "# similar programs\n",
    "# https://leetcode.com/problems/longest-mountain-in-array/\n"
   ]
  }
 ],
 "metadata": {
  "interpreter": {
   "hash": "63fd5069d213b44bf678585dea6b12cceca9941eaf7f819626cde1f2670de90d"
  },
  "kernelspec": {
   "display_name": "Python 3.9.7 64-bit",
   "language": "python",
   "name": "python3"
  },
  "language_info": {
   "codemirror_mode": {
    "name": "ipython",
    "version": 3
   },
   "file_extension": ".py",
   "mimetype": "text/x-python",
   "name": "python",
   "nbconvert_exporter": "python",
   "pygments_lexer": "ipython3",
   "version": "3.9.7"
  },
  "orig_nbformat": 4
 },
 "nbformat": 4,
 "nbformat_minor": 2
}
