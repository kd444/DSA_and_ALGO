{
 "cells": [
  {
   "cell_type": "code",
   "execution_count": 36,
   "metadata": {},
   "outputs": [
    {
     "name": "stdout",
     "output_type": "stream",
     "text": [
      "b [1, 2]\n"
     ]
    },
    {
     "data": {
      "text/plain": [
       "2"
      ]
     },
     "execution_count": 36,
     "metadata": {},
     "output_type": "execute_result"
    }
   ],
   "source": [
    "nums=[1,1,2]\n",
    "\n",
    "def removeduplicate(nums):\n",
    "    b = []\n",
    "    b.append(nums[0])\n",
    "    for i in nums :\n",
    "        if(b[-1]!=i):\n",
    "            b.append(i)\n",
    "    print(\"b\",b)\n",
    "  \n",
    "    return len(b)\n",
    "\n",
    "removeduplicate(nums)\n"
   ]
  },
  {
   "cell_type": "code",
   "execution_count": 69,
   "metadata": {},
   "outputs": [
    {
     "data": {
      "text/plain": [
       "[0, 0, 1, 1, 0, 1]"
      ]
     },
     "execution_count": 69,
     "metadata": {},
     "output_type": "execute_result"
    }
   ],
   "source": [
    "nums=[0,0,0,1,1,1]\n",
    "\n",
    "def removeduplicate(nums):\n",
    "    \n",
    "    for i in range(len(nums)-1) :\n",
    "      \n",
    "        for j in range(i+1,len(nums)-1):\n",
    "            # print(nums[i],nums[j])\n",
    "            if(nums[i] == nums[j]):\n",
    "                a=  nums.pop(j)\n",
    "                nums.append(a)\n",
    "    return nums            \n",
    "   \n",
    "\n",
    "removeduplicate(nums)"
   ]
  },
  {
   "cell_type": "code",
   "execution_count": null,
   "metadata": {},
   "outputs": [],
   "source": [
    "\n",
    "\n",
    "\n"
   ]
  }
 ],
 "metadata": {
  "kernelspec": {
   "display_name": "Python 3.9.7 64-bit",
   "language": "python",
   "name": "python3"
  },
  "language_info": {
   "codemirror_mode": {
    "name": "ipython",
    "version": 3
   },
   "file_extension": ".py",
   "mimetype": "text/x-python",
   "name": "python",
   "nbconvert_exporter": "python",
   "pygments_lexer": "ipython3",
   "version": "3.9.7"
  },
  "orig_nbformat": 4,
  "vscode": {
   "interpreter": {
    "hash": "81794d4967e6c3204c66dcd87b604927b115b27c00565d3d43f05ba2f3a2cb0d"
   }
  }
 },
 "nbformat": 4,
 "nbformat_minor": 2
}
