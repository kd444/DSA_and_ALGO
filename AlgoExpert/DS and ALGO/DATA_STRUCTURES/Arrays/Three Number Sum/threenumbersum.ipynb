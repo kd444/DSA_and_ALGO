{
 "cells": [
  {
   "cell_type": "code",
   "execution_count": 2,
   "metadata": {},
   "outputs": [
    {
     "name": "stdout",
     "output_type": "stream",
     "text": [
      "0\n",
      "0\n",
      "0\n",
      "0\n",
      "0\n",
      "0\n",
      "0\n"
     ]
    }
   ],
   "source": [
    "# first try \n",
    "array = [12,3,1,2,-6,5,-8,6]\n",
    "targetSum=0\n",
    "def threeNumberSum(array, targetSum):\n",
    "    for i in range(len(array)):\n",
    "         for j in range(i+1,len(array)):\n",
    "            for k in range(i+2,len(array)):\n",
    "                if(array[i]+array[j]+array[k]==targetSum):\n",
    "                    print(array[i]+array[j]+array[k])\n",
    "\n",
    "\n",
    "threeNumberSum(array,targetSum)\n",
    "    "
   ]
  },
  {
   "cell_type": "code",
   "execution_count": null,
   "metadata": {},
   "outputs": [],
   "source": [
    "# 3 sum of a particular number givenby user \n",
    "array = [12,3,1,2,-6,5,-8,6]\n",
    "targetSum=0\n",
    "def threeNumberSum(array, targetSum):\n",
    "    array.sort()\n",
    "    triplets = []\n",
    "    for i in range(len(array)-2):\n",
    "        left = i + 1 \n",
    "        right =len(array) -1\n",
    "        while left < right:\n",
    "            currentSum = array[i]+ array[left] +array[right]\n",
    "            if currentSum == targetSum:\n",
    "                triplets.append([array[i],array[left],array[right]])\n",
    "                left +=1\n",
    "                right -=1\n",
    "            elif currentSum < targetSum:\n",
    "                left +=1\n",
    "            elif currentSum > targetSum:\n",
    "                right -=1\n",
    "                while left<right and array[left]== array[left+1]:\n",
    "                    left+=1\n",
    "                    while left <right and array[right] == array[right-1]:\n",
    "                        right-=1\n",
    "                        left+=1\n",
    "                        right-=1\n",
    "                    return triplets\n",
    "    return triplets\n",
    "array = [12,3,1,2,-6,5,-8,6]\n",
    "targetSum=0\n",
    "threeNumberSum(array,targetSum)\n"
   ]
  },
  {
   "cell_type": "code",
   "execution_count": null,
   "metadata": {},
   "outputs": [],
   "source": [
    "# Explanation\n",
    "# -8-6+12\n",
    "# =-2\n",
    "# which is less than 0 our target sum \n",
    "\n",
    "# len(Array)-2\n",
    "# because first value should only go \n",
    "# till last third as rest 2 values are left and right pointers and all are triplets togther"
   ]
  },
  {
   "cell_type": "code",
   "execution_count": 50,
   "metadata": {},
   "outputs": [
    {
     "name": "stdout",
     "output_type": "stream",
     "text": [
      "[(-6, 2, 4)]\n"
     ]
    }
   ],
   "source": [
    "# three sum with unique triplets \n",
    "def three_sum(nums):\n",
    "  result = []\n",
    "  nums.sort()\n",
    "  for i in range(len(nums)-2):\n",
    "    if i> 0 and nums[i] == nums[i-1]:\n",
    "      continue\n",
    "    left, right = i+1, len(nums)-1\n",
    "    while left < right:\n",
    "      sum = nums[i] + nums[left] + nums[right]\n",
    "      if sum > 0:\n",
    "        right -= 1\n",
    "      elif sum < 0:\n",
    "          left += 1\n",
    "      else:\n",
    "        # found three sum\n",
    "        result.append((nums[i], nums[left], nums[right]))\n",
    "        # remove duplicates\n",
    "        while left < right and nums[left] == nums[left+1]:\n",
    "          left+=1\n",
    "          while left < right and nums[right] == nums[right-1]:\n",
    "            right -= 1\n",
    "            left += 1\n",
    "            right -= 1\n",
    "          return result\n",
    "\n",
    "x = [1, -6, 4, 2, -1, 2, 0, -2, 0 ]\n",
    "print(three_sum(x))"
   ]
  },
  {
   "cell_type": "code",
   "execution_count": 51,
   "metadata": {},
   "outputs": [],
   "source": [
    "# only update one pointer the conditions will update the other pointer"
   ]
  },
  {
   "cell_type": "code",
   "execution_count": 56,
   "metadata": {},
   "outputs": [
    {
     "name": "stdout",
     "output_type": "stream",
     "text": [
      "first,newTarget,nums,ans 0 8 [-8, -6, 1, 2, 3, 5, 6, 12] []\n",
      "first,newTarget,nums,ans 1 6 [-8, -6, 1, 2, 3, 5, 6, 12] [[-8, 2, 6], [-8, 3, 5]]\n",
      "first,newTarget,nums,ans 2 -1 [-8, -6, 1, 2, 3, 5, 6, 12] [[-8, 2, 6], [-8, 3, 5], [-6, 1, 5]]\n",
      "first,newTarget,nums,ans 3 -2 [-8, -6, 1, 2, 3, 5, 6, 12] [[-8, 2, 6], [-8, 3, 5], [-6, 1, 5]]\n",
      "first,newTarget,nums,ans 4 -3 [-8, -6, 1, 2, 3, 5, 6, 12] [[-8, 2, 6], [-8, 3, 5], [-6, 1, 5]]\n",
      "first,newTarget,nums,ans 5 -5 [-8, -6, 1, 2, 3, 5, 6, 12] [[-8, 2, 6], [-8, 3, 5], [-6, 1, 5]]\n"
     ]
    },
    {
     "data": {
      "text/plain": [
       "[[-8, 2, 6], [-8, 3, 5], [-6, 1, 5]]"
      ]
     },
     "execution_count": 56,
     "metadata": {},
     "output_type": "execute_result"
    }
   ],
   "source": [
    "def threeSum(nums):\n",
    "    \"\"\"\n",
    "    this is exactly same problem like 4 sum\n",
    "    where brute force is to have 3 loops\n",
    "    tc = O(n ^ 3)\n",
    "    sc = constant\n",
    "    \n",
    "    but still without sorting how we are going to skip the duplicates\n",
    "    so sorting is necessary\n",
    "    \n",
    "    and have one fixed loop at starting\n",
    "    then have two pointers approach to find new target\n",
    "    tc = O(nlogn + n ^ 2) => O(n ^ 2)\n",
    "    sc = O(n)\n",
    "    \"\"\"\n",
    "    def findTriplet(first,newTarget,nums,ans):\n",
    "        n = len(nums)\n",
    "        left = first + 1\n",
    "        right = n - 1\n",
    "        while left < right:\n",
    "            currTotal = nums[left] +  nums[right]\n",
    "            if currTotal == newTarget:\n",
    "                triplet = [nums[first],nums[left],nums[right]]\n",
    "                ans.append(triplet)\n",
    "                left += 1\n",
    "                right -= 1\n",
    "                while left < right and nums[left] == nums[left - 1]:\n",
    "                    left += 1\n",
    "                while left < right and nums[right] == nums[right + 1]:\n",
    "                    right -= 1\n",
    "            elif currTotal < newTarget:\n",
    "                left += 1\n",
    "            else:\n",
    "                right -= 1\n",
    "    \n",
    "    nums.sort()\n",
    "    n = len(nums)\n",
    "    ans = []\n",
    "    for first in range(n - 2):\n",
    "        if first > 0 and nums[first] == nums[first - 1]:\n",
    "            continue\n",
    "        newTarget = 0 - nums[first]\n",
    "        print(\"first,newTarget,nums,ans\",first,newTarget,nums,ans)\n",
    "        findTriplet(first,newTarget,nums,ans)\n",
    "    return ans\n",
    "x=array = [12,3,1,2,-6,5,-8,6]\n",
    "threeSum(x)\n",
    "\n",
    "    "
   ]
  },
  {
   "cell_type": "code",
   "execution_count": null,
   "metadata": {},
   "outputs": [],
   "source": [
    "# first compare it with previous ones continue if staticmethod\n",
    "# run for loop taking each item as first value \n",
    "# target would be sum - the forst value \n",
    "# pass the  first target array and ans array in the function find triplet \n",
    "\n"
   ]
  },
  {
   "cell_type": "code",
   "execution_count": 2,
   "metadata": {},
   "outputs": [
    {
     "data": {
      "text/plain": [
       "[]"
      ]
     },
     "execution_count": 2,
     "metadata": {},
     "output_type": "execute_result"
    }
   ],
   "source": [
    "\n",
    "\n",
    "array = [12,3,1,2,-6,5,-8,6]\n",
    "\n",
    "\n",
    "def threeNumberfunc(nums):\n",
    "    res=[]\n",
    "    nums.sort()\n",
    "    for i,a in enumerate(nums ):\n",
    "        if i >0 and a == nums[i-1]:\n",
    "            continue\n",
    "        l ,r =  i+1, len(nums)-1\n",
    "        while l < r :\n",
    "            threeSum =nums[l]+nums[r]+a\n",
    "            if(threeSum >0):\n",
    "                r-=1 \n",
    "            elif threeSum<0:\n",
    "                l+=1\n",
    "            else:\n",
    "                res.append([nums[l],nums[r],a])\n",
    "                # [-2,-2,0,2,2]\n",
    "                # left-2  right 2\n",
    "                # update left pointer l-2 r 2 same as before\n",
    "                # update again left l 0 r 2 sum becomes large\n",
    "                # shift right pointer again  l0 r2 same as before\n",
    "                # notice that each value will have only one pair to make it 0\n",
    "                # so we oly have to update on e pointer rest taken care by above conditions \n",
    "                l+=1\n",
    "                while nums[l]== nums[l-1]and l<r:\n",
    "                    l+=1\n",
    "    return res\n",
    "               \n",
    "threeNumberfunc(array)  "
   ]
  }
 ],
 "metadata": {
  "kernelspec": {
   "display_name": "Python 3.9.7 64-bit",
   "language": "python",
   "name": "python3"
  },
  "language_info": {
   "codemirror_mode": {
    "name": "ipython",
    "version": 3
   },
   "file_extension": ".py",
   "mimetype": "text/x-python",
   "name": "python",
   "nbconvert_exporter": "python",
   "pygments_lexer": "ipython3",
   "version": "3.9.7"
  },
  "vscode": {
   "interpreter": {
    "hash": "81794d4967e6c3204c66dcd87b604927b115b27c00565d3d43f05ba2f3a2cb0d"
   }
  }
 },
 "nbformat": 4,
 "nbformat_minor": 2
}
