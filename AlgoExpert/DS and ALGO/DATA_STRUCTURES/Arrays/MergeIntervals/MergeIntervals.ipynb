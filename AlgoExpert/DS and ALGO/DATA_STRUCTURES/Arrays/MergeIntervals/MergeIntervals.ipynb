{
 "cells": [
  {
   "cell_type": "code",
   "execution_count": 2,
   "metadata": {},
   "outputs": [],
   "source": [
    "# q.Given an array of intervals where intervals[i] = [starti, endi], merge all overlapping intervals,\n",
    "#  and return an array of the non-overlapping intervals that cover all the intervals in the input.\n",
    "\n",
    "\n",
    "# end of 1>= start of 2 =>overlap\n",
    "# sort by first element so we compare the correct interval\n",
    "#compare to the end of  output array,handle the element by updating element already in there,updaee to the greater value of the end of  two elements\n",
    "#does not overlap just add in array\n",
    "\n",
    "#  Example 1:\n",
    "\n",
    "# Input: intervals = [[1,3],[2,6],[8,10],[15,18]]\n",
    "# Output: [[1,6],[8,10],[15,18]]\n",
    "# Explanation: Since intervals [1,3] and [2,6] overlaps, merge them into [1,6].\n",
    "\n",
    "# Example 2:\n",
    "# Input: intervals = [[1,4],[4,5]]\n",
    "# Output: [[1,5]]\n",
    "# Explanation: Intervals [1,4] and [4,5] are considered overlapping.\n",
    "\n",
    "# Constraints:\n",
    "\n",
    "# 1 <= intervals.length <= 104\n",
    "# intervals[i].length == 2\n",
    "# 0 <= starti <= endi <= 104"
   ]
  },
  {
   "cell_type": "code",
   "execution_count": 16,
   "metadata": {},
   "outputs": [],
   "source": [
    "def mergeOverLappingIntervals(intervals):\n",
    "    sortedIntervals = sorted(intervals,  key=lambda x: x[0])\n",
    "    mergedIntervals =[]\n",
    "    currentInterval= sortedIntervals[0]\n",
    "    mergedIntervals.append(currentInterval)\n",
    "    \n",
    "    for nextInterval in sortedIntervals:\n",
    "        _, currentIntervalEnd = currentInterval\n",
    "        nextIntervalStart, nextIntervalEnd= nextInterval\n",
    "\n",
    "        if currentIntervalEnd >= nextIntervalStart:\n",
    "            currentInterval[1] = max(currentIntervalEnd,nextIntervalEnd)\n",
    "        else:\n",
    "            currentInterval = nextInterval\n",
    "            mergedIntervals.append(currentInterval)\n",
    "\n",
    "    return mergedIntervals        \n",
    "\n",
    "arr= [\n",
    "  [1, 2],\n",
    "  [3, 5],\n",
    "  [4, 7],\n",
    "  [6, 8],\n",
    "  [9, 10]\n",
    "]\n",
    "mergeOverLappingIntervals(arr)\n"
   ]
  },
  {
   "cell_type": "code",
   "execution_count": null,
   "metadata": {},
   "outputs": [],
   "source": [
    "# what did i learn ?\n",
    "# sorted(iterable, key=key, reverse=reverse)\n",
    "# iterable\tRequired. The sequence to sort, list, dictionary, tuple etc.\n",
    "# key\tOptional. A Function to execute to decide the order. Default is None\n",
    "# reverse\tOptional. A Boolean. False will sort ascending, True will sort descending. Default is False\n",
    "# sorted function \n",
    "# a = [\"tim\", \"bob\", \"anna\", \"steve\", \"john\"]\n",
    "\n",
    "# # sorts the list by the first letter of each name\n",
    "# b = sorted(a, key=lambda x : x[0])\n",
    "# x = each of the values in the list a\n"
   ]
  }
 ],
 "metadata": {
  "interpreter": {
   "hash": "63fd5069d213b44bf678585dea6b12cceca9941eaf7f819626cde1f2670de90d"
  },
  "kernelspec": {
   "display_name": "Python 3.9.7 64-bit",
   "language": "python",
   "name": "python3"
  },
  "language_info": {
   "codemirror_mode": {
    "name": "ipython",
    "version": 3
   },
   "file_extension": ".py",
   "mimetype": "text/x-python",
   "name": "python",
   "nbconvert_exporter": "python",
   "pygments_lexer": "ipython3",
   "version": "3.9.7"
  },
  "orig_nbformat": 4
 },
 "nbformat": 4,
 "nbformat_minor": 2
}
