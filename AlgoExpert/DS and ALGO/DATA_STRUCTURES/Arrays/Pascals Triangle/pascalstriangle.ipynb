{
 "cells": [
  {
   "cell_type": "code",
   "execution_count": null,
   "metadata": {},
   "outputs": [],
   "source": [
    "def pascal(self,numRows):\n",
    "    res=[[1]]\n",
    "    for i in range(numRows-1):\n",
    "        temp= [0] + res[-1] + [0]\n",
    "        row =[]\n",
    "        for j in range(len(res[-1])+1):\n",
    "            row.append(temp[j]+temp[j+1])\n",
    "        res.append(row)\n",
    "    return res        \n"
   ]
  }
 ],
 "metadata": {
  "language_info": {
   "name": "python"
  },
  "orig_nbformat": 4
 },
 "nbformat": 4,
 "nbformat_minor": 2
}
