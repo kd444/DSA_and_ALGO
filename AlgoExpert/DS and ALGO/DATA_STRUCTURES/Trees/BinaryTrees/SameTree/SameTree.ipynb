{
 "cells": [
  {
   "cell_type": "code",
   "execution_count": null,
   "metadata": {},
   "outputs": [],
   "source": [
    "class Solution(object):\n",
    "  def isSameTree(self, p, q):\n",
    "\n",
    "    if not p and not q:\n",
    "\n",
    "    #   If both trees are empty, then they are considered identical.\n",
    "      \n",
    "      return True\n",
    "    if not p or not q or p.val != q.val:\n",
    "      \n",
    "    #   If one tree is empty or the root nodes of the two trees are not equal,\n",
    "    #   then the trees are not considered identical.\n",
    "     \n",
    "      return False\n",
    "    # Otherwise, recursively check if the left and right subtrees of the two trees\n",
    "    # are also identical.\n",
    "    return (self.isSameTree(p.left, q.left) and\n",
    "            self.isSameTree(p.right, q.right))\n"
   ]
  }
 ],
 "metadata": {
  "language_info": {
   "name": "python"
  },
  "orig_nbformat": 4
 },
 "nbformat": 4,
 "nbformat_minor": 2
}
