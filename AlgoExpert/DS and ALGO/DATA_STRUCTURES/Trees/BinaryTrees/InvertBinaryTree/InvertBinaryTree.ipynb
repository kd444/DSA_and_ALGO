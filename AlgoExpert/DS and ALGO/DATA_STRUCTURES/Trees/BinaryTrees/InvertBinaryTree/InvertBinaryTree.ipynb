{
 "cells": [
  {
   "cell_type": "code",
   "execution_count": null,
   "metadata": {},
   "outputs": [],
   "source": [
    "# Question \n",
    "# visit every single node and everytime u visit it take a look at its children and swap them \n"
   ]
  },
  {
   "cell_type": "code",
   "execution_count": null,
   "metadata": {},
   "outputs": [],
   "source": [
    "# recursive so we will use DFS \n",
    "\n",
    "def invertTree(self, root):\n",
    "    \"\"\"\n",
    "    :type root: TreeNode\n",
    "    :rtype: TreeNode\n",
    "    \"\"\"\n",
    "    if not root:\n",
    "        return None \n",
    "    # swap the children\n",
    "    temp = root.right\n",
    "    root.right= root.left\n",
    "    root.left= temp\n",
    "\n",
    "    self.invertTree(root.right)\n",
    "    self.invertTree(root.left)\n",
    "    return root \n"
   ]
  }
 ],
 "metadata": {
  "language_info": {
   "name": "python"
  },
  "orig_nbformat": 4
 },
 "nbformat": 4,
 "nbformat_minor": 2
}
