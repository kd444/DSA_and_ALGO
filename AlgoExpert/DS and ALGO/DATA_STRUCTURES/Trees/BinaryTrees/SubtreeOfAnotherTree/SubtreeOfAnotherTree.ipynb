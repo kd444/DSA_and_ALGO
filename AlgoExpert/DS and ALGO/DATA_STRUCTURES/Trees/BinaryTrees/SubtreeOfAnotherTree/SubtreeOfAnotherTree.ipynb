{
 "cells": [
  {
   "cell_type": "code",
   "execution_count": null,
   "metadata": {},
   "outputs": [],
   "source": [
    "# Given the roots of two binary trees root and subRoot, return true if there is a subtree of \n",
    "# root with the same structure and node values of subRoot and false otherwise.\n",
    "# A subtree of a binary tree tree is a tree that consists of a node in tree \n",
    "# and all of this node's descendants. The tree tree could also be considered as a subtree of itself.\n",
    "\n",
    "\n",
    "# We can follow the same method for same tree and check each subtree\n",
    "\n",
    "# edge cases : \n",
    "# 1. if null are same \n",
    "# 2. if initial values are same but if one of trees have extra node \n",
    "# 3. a null subtree is a subtree of another null subtree \n",
    "# 4.  empty or null subtree is subtree of a non empty tree \n",
    "\n",
    "\n",
    "\n",
    "\n"
   ]
  }
 ],
 "metadata": {
  "language_info": {
   "name": "python"
  },
  "orig_nbformat": 4
 },
 "nbformat": 4,
 "nbformat_minor": 2
}
