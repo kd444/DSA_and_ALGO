{
 "cells": [
  {
   "cell_type": "code",
   "execution_count": null,
   "metadata": {},
   "outputs": [],
   "source": [
    "# first we iterate and  add all the opening brackets in stack\n",
    "# if its a closing bracket first we check if our stac is empty \n",
    "# if thats the case we know for certain our string is unbalanced \n",
    "# if we do have brackets than we want to check what last bracket was and check the type\n",
    "\n",
    "def balancedBrackets(string):\n",
    "    openingBrackets =\"([{\"\n",
    "    closingBrackets =\")]}\"\n",
    "    matchingBrackets={\")\":\"(\",\"]\":\"[\",\"}\":\"{\"}\n",
    "    stack=[]\n",
    "    for char in string:\n",
    "        if char in openingBrackets:\n",
    "            stack.append(char)\n",
    "        elif char in closingBrackets:\n",
    "            if len(stack) ==0:\n",
    "                return False  \n",
    "            if stack[-1]== matchingBrackets[char] :\n",
    "                stack.pop()\n",
    "            else:\n",
    "                return False\n",
    "    return len(stack)==0\n",
    "\n",
    "#  O(n)time | O(n) space"
   ]
  },
  {
   "cell_type": "code",
   "execution_count": null,
   "metadata": {},
   "outputs": [],
   "source": [
    "#doubts why only checked the last item "
   ]
  }
 ],
 "metadata": {
  "language_info": {
   "name": "python"
  },
  "orig_nbformat": 4
 },
 "nbformat": 4,
 "nbformat_minor": 2
}
