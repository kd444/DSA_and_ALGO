{
 "cells": [
  {
   "cell_type": "code",
   "execution_count": null,
   "metadata": {},
   "outputs": [],
   "source": [
    "def hasCycle(self, head):\n",
    "    slow,fast = head,head\n",
    "    while fast and fast.next:\n",
    "        slow=slow.next\n",
    "        fast= fast.next.next\n",
    "        if slow == fast:\n",
    "            return True \n",
    "    return False "
   ]
  },
  {
   "cell_type": "code",
   "execution_count": null,
   "metadata": {},
   "outputs": [],
   "source": [
    "#  Floyd's Tortoise and Hare "
   ]
  }
 ],
 "metadata": {
  "language_info": {
   "name": "python"
  },
  "orig_nbformat": 4
 },
 "nbformat": 4,
 "nbformat_minor": 2
}
