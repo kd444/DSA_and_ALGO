{
 "cells": [
  {
   "cell_type": "code",
   "execution_count": null,
   "metadata": {},
   "outputs": [],
   "source": [
    "def mergeTwoLists(self,list1,list2):\n",
    "    dummy = ListNode()\n",
    "    tail = dummy\n",
    "    while list1 and list2:\n",
    "        if list1.val < list2.val:\n",
    "            tail.next = list1\n",
    "            list1 = list1.nex\n",
    "        else:\n",
    "            tail.next = list2\n",
    "            list2 = list2.next\n",
    "        tail = tail.next\n",
    "    if list1:\n",
    "        tail.next = list1\n",
    "    elif list2:\n",
    "        tail.next = list2 \n",
    "    return dummy.next            \n",
    "\n"
   ]
  }
 ],
 "metadata": {
  "language_info": {
   "name": "python"
  },
  "orig_nbformat": 4
 },
 "nbformat": 4,
 "nbformat_minor": 2
}
