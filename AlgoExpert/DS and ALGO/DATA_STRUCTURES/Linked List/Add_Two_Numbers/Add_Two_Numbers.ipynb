{
 "cells": [
  {
   "cell_type": "code",
   "execution_count": null,
   "metadata": {},
   "outputs": [],
   "source": [
    "# You are given two non-empty linked lists representing two non-negative integers. The digits are stored in reverse order, \n",
    "# and each of their nodes contains a single digit. \n",
    "# Add the two numbers and return the sum as a linked list.\n",
    "\n",
    "# You may assume the two numbers do not contain any leading zero, except the number 0 itself.\n",
    "\n"
   ]
  },
  {
   "cell_type": "code",
   "execution_count": 9,
   "metadata": {},
   "outputs": [],
   "source": [
    "# Definition for singly-linked list.\n",
    "class ListNode(object):\n",
    "    def __init__(self, val=0, next=None):\n",
    "        self.val = val\n",
    "        self.next = next\n",
    "\n",
    "def addTwoNumbers(self, l1, l2):\n",
    "    result = ListNode()\n",
    "    current = result\n",
    "\n",
    "    carry = 0\n",
    "    while l1 or l2 or carry:\n",
    "        value1 = l1.val if l1 else 0\n",
    "        value2 = l2.val if l2 else 0\n",
    "\n",
    "        # Calculate the new digit\n",
    "        total = value1 + value2 + carry\n",
    "        carry = total // 10\n",
    "        digit = total % 10\n",
    "        current.next = ListNode(digit)\n",
    "\n",
    "        current = current.next\n",
    "        l1 =l1.next if l1 else None \n",
    "        l2 = l2.next if l2 else None \n",
    "\n",
    "    return result.next"
   ]
  }
 ],
 "metadata": {
  "kernelspec": {
   "display_name": "Python 3",
   "language": "python",
   "name": "python3"
  },
  "language_info": {
   "codemirror_mode": {
    "name": "ipython",
    "version": 3
   },
   "file_extension": ".py",
   "mimetype": "text/x-python",
   "name": "python",
   "nbconvert_exporter": "python",
   "pygments_lexer": "ipython3",
   "version": "3.11.4"
  }
 },
 "nbformat": 4,
 "nbformat_minor": 2
}
