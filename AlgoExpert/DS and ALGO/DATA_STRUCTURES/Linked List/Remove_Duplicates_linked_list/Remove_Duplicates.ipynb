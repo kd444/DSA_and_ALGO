{
 "cells": [
  {
   "cell_type": "code",
   "execution_count": null,
   "metadata": {},
   "outputs": [],
   "source": [
    "class LinkedList:\n",
    "    def _init_(self ,value):\n",
    "        self.value =value\n",
    "        self.next = None\n",
    "\n",
    "def removeDuplicatesFromLinkedList(linkedList):\n",
    "    currentNode =linkedList\n",
    "    while currentNode is not None:\n",
    "        nextDistinctNode = currentNode.next\n",
    "        while nextDistinctNode is not None and nextDistinctNode.value == currentNode.value:\n",
    "            nextDistinctNode = nextDistinctNode.next\n",
    "        currentNode.next=nextDistinctNode\n",
    "        currentNode = nextDistinctNode\n",
    "    return linkedList     \n",
    "\n"
   ]
  }
 ],
 "metadata": {
  "language_info": {
   "name": "python"
  },
  "orig_nbformat": 4
 },
 "nbformat": 4,
 "nbformat_minor": 2
}
