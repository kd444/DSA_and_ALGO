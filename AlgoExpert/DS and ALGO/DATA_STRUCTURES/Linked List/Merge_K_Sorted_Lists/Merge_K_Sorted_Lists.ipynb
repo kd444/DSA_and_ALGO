{
 "cells": [
  {
   "cell_type": "code",
   "execution_count": null,
   "metadata": {},
   "outputs": [],
   "source": [
    "def mergeKlists(self,lists):\n",
    "    if not lists or len(lists) ==0:\n",
    "        return None\n",
    "    while len(lists) >1:\n",
    "        mergedLists = []\n",
    "        for  i in range(0,len(lists),2):\n",
    "            l1= lists[i]\n",
    "            l2=lists[i+1] if ((i+1)<len(lists))else None\n",
    "            mergedLists(self.mergeList(l1,l2))\n",
    "        lists - mergedLists\n",
    "    return lists[0]\n",
    "def mergeList(self,l1,l2):\n",
    "    dummy = ListNode()\n",
    "    tail= dummy\n",
    "    while l1 and l2:\n",
    "        if l1.val< l2.val:\n",
    "            tail.next = l1\n",
    "            l1 = l1.next\n",
    "        else:\n",
    "            tail.next = l2\n",
    "            l2 = l2.next\n",
    "        tail =tail.next\n",
    "    if l1:\n",
    "        tail.next= l1\n",
    "    if l2:\n",
    "        tail.next= l2    \n",
    "    return dummy.next    \n",
    "\n",
    "\n"
   ]
  }
 ],
 "metadata": {
  "language_info": {
   "name": "python"
  },
  "orig_nbformat": 4
 },
 "nbformat": 4,
 "nbformat_minor": 2
}
