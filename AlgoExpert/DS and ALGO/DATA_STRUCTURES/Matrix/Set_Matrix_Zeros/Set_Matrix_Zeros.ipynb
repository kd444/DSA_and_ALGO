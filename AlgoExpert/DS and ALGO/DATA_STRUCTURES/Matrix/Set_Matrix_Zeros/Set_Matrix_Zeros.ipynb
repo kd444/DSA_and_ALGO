{
 "cells": [
  {
   "cell_type": "code",
   "execution_count": null,
   "metadata": {},
   "outputs": [],
   "source": [
    "# def serZeros(Self,matrix):\n",
    "#     ROWS,ColS= len(matrix),len(matrix[0])\n",
    "#     rowZero= False\n",
    "\n",
    "#     # determine which rows/cols nned to be zero\n",
    "\n",
    "#     for r in range(ROWS):\n",
    "#         for c in range(COLS):\n",
    "#             if matrix[r][c] == 0:\n",
    "#                 matrix[0][c] =0\n",
    "#                 if r >0:\n",
    "#                     matrix[r][0]\n"
   ]
  }
 ],
 "metadata": {
  "language_info": {
   "name": "python"
  },
  "orig_nbformat": 4
 },
 "nbformat": 4,
 "nbformat_minor": 2
}
