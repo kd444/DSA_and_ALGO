{
 "cells": [
  {
   "cell_type": "code",
   "execution_count": null,
   "metadata": {},
   "outputs": [],
   "source": [
    "def countBits(self, n):\n",
    "    dp= [0]*(n+1)\n",
    "    offset =1\n",
    "    \n",
    "    for i in range(1,n+1):\n",
    "        if offset*2==i:\n",
    "            offset=i\n",
    "        dp[i]= 1+ dp[i -offset]\n",
    "    return dp"
   ]
  }
 ],
 "metadata": {
  "language_info": {
   "name": "python"
  },
  "orig_nbformat": 4
 },
 "nbformat": 4,
 "nbformat_minor": 2
}
