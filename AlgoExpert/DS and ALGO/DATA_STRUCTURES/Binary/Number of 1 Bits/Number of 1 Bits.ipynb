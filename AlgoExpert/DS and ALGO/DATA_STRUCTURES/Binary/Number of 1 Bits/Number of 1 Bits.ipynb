{
 "cells": [
  {
   "cell_type": "code",
   "execution_count": null,
   "metadata": {},
   "outputs": [],
   "source": [
    "def hammingWeight(self, n):\n",
    "    res = 0 \n",
    "    while n:\n",
    "        n &= (n-1)\n",
    "        res +=1\n",
    "    return res"
   ]
  }
 ],
 "metadata": {
  "language_info": {
   "name": "python"
  },
  "orig_nbformat": 4
 },
 "nbformat": 4,
 "nbformat_minor": 2
}
