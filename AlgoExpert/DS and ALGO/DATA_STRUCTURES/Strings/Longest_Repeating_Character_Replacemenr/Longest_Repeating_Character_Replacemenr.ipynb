{
 "cells": [
  {
   "cell_type": "code",
   "execution_count": null,
   "metadata": {},
   "outputs": [],
   "source": [
    "# You are given a string s and an integer k. You can choose any character of the string and\n",
    "#  change it to any other uppercase English character. You can perform this operation at most k times.\n",
    "\n",
    "# Return the length of the longest substring containing the same letter you can get\n",
    "#  after performing the above operations.\n",
    "\n",
    " \n",
    "\n",
    "# Example 1:\n",
    "\n",
    "# Input: s = \"ABAB\", k = 2\n",
    "# Output: 4\n",
    "# Explanation: Replace the two 'A's with two 'B's or vice versa."
   ]
  },
  {
   "cell_type": "code",
   "execution_count": null,
   "metadata": {},
   "outputs": [],
   "source": [
    "def characterReplacement(self,s,k):\n",
    "    count= {}\n",
    "    res= 0 \n",
    "    l =0 \n",
    "    maxf=0\n",
    "    for r in range(len(s)):\n",
    "        count[s[r]]= 1 +count.get(s[r],0)\n",
    "        maxf= max(maxf,count[s[r]])\n",
    "        while(r -l+1)-maxf >k:\n",
    "            count[s[l]]-=1\n",
    "            l+=1\n",
    "        res = max(res,r-l+1)\n",
    "    return res        \n"
   ]
  },
  {
   "cell_type": "code",
   "execution_count": null,
   "metadata": {},
   "outputs": [],
   "source": []
  }
 ],
 "metadata": {
  "language_info": {
   "name": "python"
  },
  "orig_nbformat": 4
 },
 "nbformat": 4,
 "nbformat_minor": 2
}
