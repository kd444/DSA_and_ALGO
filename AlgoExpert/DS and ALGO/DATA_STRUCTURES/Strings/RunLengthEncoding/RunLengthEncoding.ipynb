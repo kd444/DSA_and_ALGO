{
 "cells": [
  {
   "cell_type": "code",
   "execution_count": 34,
   "metadata": {},
   "outputs": [
    {
     "name": "stdout",
     "output_type": "stream",
     "text": [
      "AAAAAAAAAAAAABBCCCCDD\n",
      "9A4A2B4C2D\n"
     ]
    }
   ],
   "source": [
    "def runlengthencoding(string1):\n",
    "    currentlength=1\n",
    "    print(string1)\n",
    "    chars=[]\n",
    "    for i in range(1,len(string1)):\n",
    "        if string1[i]!=string1[i-1]or currentlength==9:\n",
    "            chars.append(str(currentlength))\n",
    "            chars.append(string1[i-1])\n",
    "            currentlength=0\n",
    "            \n",
    "        currentlength+=1\n",
    "    chars.append(str(currentlength))\n",
    "    chars.append(string1[len(string1)-1])\n",
    "    print(\"\".join(str(e) for e in chars))\n",
    "string1= \"AAAAAAAAAAAAABBCCCCDD\"\n",
    "runlengthencoding(string1)\n",
    "# 9A4A2B4C2D"
   ]
  },
  {
   "cell_type": "code",
   "execution_count": null,
   "metadata": {},
   "outputs": [],
   "source": [
    "if i-1 different than i or length ==9\n",
    "add length to list \n",
    "\n"
   ]
  }
 ],
 "metadata": {
  "interpreter": {
   "hash": "63fd5069d213b44bf678585dea6b12cceca9941eaf7f819626cde1f2670de90d"
  },
  "kernelspec": {
   "display_name": "Python 3.9.7 64-bit",
   "language": "python",
   "name": "python3"
  },
  "language_info": {
   "codemirror_mode": {
    "name": "ipython",
    "version": 3
   },
   "file_extension": ".py",
   "mimetype": "text/x-python",
   "name": "python",
   "nbconvert_exporter": "python",
   "pygments_lexer": "ipython3",
   "version": "3.9.7"
  },
  "orig_nbformat": 4
 },
 "nbformat": 4,
 "nbformat_minor": 2
}
