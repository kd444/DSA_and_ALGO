{
 "cells": [
  {
   "cell_type": "code",
   "execution_count": null,
   "metadata": {},
   "outputs": [],
   "source": [
    "def longestPalindromeSubstring(string):\n",
    "    currentLongest= [0,1]\n",
    "    for i in range(1,len(string)):\n",
    "        odd = getLongestPalindromeFrom(string,i-1,i+1)\n",
    "        even= getLongestPalindromeFrom(string,i-1,)\n"
   ]
  }
 ],
 "metadata": {
  "language_info": {
   "name": "python"
  },
  "orig_nbformat": 4
 },
 "nbformat": 4,
 "nbformat_minor": 2
}
