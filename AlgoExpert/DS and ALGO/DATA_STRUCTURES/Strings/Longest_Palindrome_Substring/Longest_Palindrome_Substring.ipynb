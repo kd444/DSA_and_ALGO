{
 "cells": [
  {
   "cell_type": "code",
   "execution_count": null,
   "metadata": {},
   "outputs": [],
   "source": [
    "def longestPalindrome(Self,s):\n",
    "    res=\"\"\n",
    "    reslen=0\n",
    "    for i in range(len(s)):\n",
    "        # odd length\n",
    "        l,r=i,i\n",
    "        while l >=0 and r< len(s) and s[l]==s[r]:\n",
    "            if(r -l+1)> reslen:\n",
    "                res = s[l:r+1]\n",
    "                reslen=r-l+1\n",
    "            l -=1\n",
    "            r +=1\n",
    "        # even length\n",
    "        l,r =i ,i+1\n",
    "        while l >=0 and r < len(s) and s[l]==s[r]:\n",
    "            if(r-l+1) > reslen:      \n",
    "                res = s[l:r+1]\n",
    "                reslen=r-l+1\n",
    "            l -=1\n",
    "            r +=1\n",
    "    return res\n",
    "\n"
   ]
  }
 ],
 "metadata": {
  "language_info": {
   "name": "python"
  },
  "orig_nbformat": 4
 },
 "nbformat": 4,
 "nbformat_minor": 2
}
