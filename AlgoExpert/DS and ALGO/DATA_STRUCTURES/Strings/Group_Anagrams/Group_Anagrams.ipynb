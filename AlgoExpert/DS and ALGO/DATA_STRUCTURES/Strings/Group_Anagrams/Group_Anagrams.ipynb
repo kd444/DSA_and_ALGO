{
 "cells": [
  {
   "cell_type": "code",
   "execution_count": 10,
   "metadata": {},
   "outputs": [
    {
     "name": "stdout",
     "output_type": "stream",
     "text": [
      "{'oy': ['yo']}\n",
      "{'oy': ['yo'], 'act': ['act']}\n",
      "{'oy': ['yo'], 'act': ['act'], 'flop': ['flop']}\n",
      "{'oy': ['yo'], 'act': ['act', 'tac'], 'flop': ['flop'], 'foo': ['foo']}\n"
     ]
    },
    {
     "data": {
      "text/plain": [
       "[['yo', 'oy'], ['act', 'tac', 'cat'], ['flop', 'olfp'], ['foo']]"
      ]
     },
     "execution_count": 10,
     "metadata": {},
     "output_type": "execute_result"
    }
   ],
   "source": [
    "# O(w*n*log(n)) time | O(wn) space - where w is the number of words and \n",
    "# n is the length of the longest word\n",
    "def groupAnagrams(words):\n",
    "    anagrams ={}\n",
    "    # sortedWord=\"\"\n",
    "    for word in words:\n",
    "        sortedWord=\"\".join(sorted(word))\n",
    "        if sortedWord in anagrams:\n",
    "            anagrams[sortedWord].append(word)\n",
    "        else:\n",
    "            # key will be sorted words and values will be the  word m s key will be unique \n",
    "            anagrams[sortedWord] = [word]\n",
    "            # print(anagrams)\n",
    "    return list(anagrams.values())\n",
    "\n",
    "words = [\"yo\",\"act\",\"flop\",\"tac\",\"foo\",\"cat\",\"oy\",\"olfp\"]\n",
    "\n",
    "groupAnagrams(words)\n"
   ]
  },
  {
   "cell_type": "code",
   "execution_count": 11,
   "metadata": {},
   "outputs": [],
   "source": [
    "# takes in an array of  strings and groups anagrams togther \n",
    "# words = [\"yo\",\"act\",\"flop\",\"tac\",\"foo\",\"cat\",\"oy\",\"olfp\"]\n",
    "#[[\"yo\",\"oy\"],[\"act\",\"tac\",\"cat\"]]\n",
    "\n",
    "# above solution resulted in Output Limit Exceeded error due to printf statement \n"
   ]
  },
  {
   "cell_type": "code",
   "execution_count": null,
   "metadata": {},
   "outputs": [],
   "source": [
    "def find"
   ]
  }
 ],
 "metadata": {
  "interpreter": {
   "hash": "63fd5069d213b44bf678585dea6b12cceca9941eaf7f819626cde1f2670de90d"
  },
  "kernelspec": {
   "display_name": "Python 3.9.7 64-bit",
   "language": "python",
   "name": "python3"
  },
  "language_info": {
   "codemirror_mode": {
    "name": "ipython",
    "version": 3
   },
   "file_extension": ".py",
   "mimetype": "text/x-python",
   "name": "python",
   "nbconvert_exporter": "python",
   "pygments_lexer": "ipython3",
   "version": "3.9.7"
  },
  "orig_nbformat": 4
 },
 "nbformat": 4,
 "nbformat_minor": 2
}
