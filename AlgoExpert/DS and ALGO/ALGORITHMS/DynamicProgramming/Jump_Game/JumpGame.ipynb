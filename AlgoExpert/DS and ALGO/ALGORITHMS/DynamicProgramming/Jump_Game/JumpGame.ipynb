{
 "cells": [
  {
   "cell_type": "code",
   "execution_count": null,
   "metadata": {},
   "outputs": [],
   "source": [
    "# You are given an integer array nums. You are initially positioned at the array's first index, and each element \n",
    "# in the array represents your maximum jump length at that position.\n",
    "\n",
    "# Return true if you can reach the last index, or false otherwise.\n",
    "\n",
    "# Example 1:\n",
    "\n",
    "# Input: nums = [2,3,1,1,4]\n",
    "# Output: true\n",
    "# Explanation: Jump 1 step from index 0 to 1, then 3 steps to the last index."
   ]
  },
  {
   "cell_type": "code",
   "execution_count": null,
   "metadata": {},
   "outputs": [],
   "source": []
  }
 ],
 "metadata": {
  "language_info": {
   "name": "python"
  },
  "orig_nbformat": 4
 },
 "nbformat": 4,
 "nbformat_minor": 2
}
