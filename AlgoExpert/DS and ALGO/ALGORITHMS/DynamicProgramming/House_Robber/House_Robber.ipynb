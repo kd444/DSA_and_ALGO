{
 "cells": [
  {
   "cell_type": "code",
   "execution_count": null,
   "metadata": {},
   "outputs": [],
   "source": [
    "def rob(self,nums):\n",
    "    rob1,rob2=0,0\n",
    "    # [rob1,rob2,n,n+1,...]\n",
    "    for n in nums:\n",
    "        temp=max(n+rob1,rob2)\n",
    "        rob1= rob2\n",
    "        rob2= temp\n",
    "    return rob2    "
   ]
  }
 ],
 "metadata": {
  "language_info": {
   "name": "python"
  },
  "orig_nbformat": 4
 },
 "nbformat": 4,
 "nbformat_minor": 2
}
