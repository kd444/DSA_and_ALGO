{
 "cells": [
  {
   "cell_type": "code",
   "execution_count": null,
   "metadata": {},
   "outputs": [],
   "source": [
    "# You are a professional robber planning to rob houses along a street. Each house has a certain amount of money stashed, the only constraint stopping you from robbing each of them is that adjacent houses have security systems connected and it will automatically contact the police if two adjacent houses were broken into on the same night.\n",
    "\n",
    "# Given an integer array nums representing the amount of money of each house, return the maximum amount of money you can rob tonight without alerting the police.\n",
    "\n",
    " \n",
    "\n",
    "# Example 1:\n",
    "\n",
    "# Input: nums = [1,2,3,1]\n",
    "# Output: 4\n",
    "# Explanation: Rob house 1 (money = 1) and then rob house 3 (money = 3).\n",
    "# Total amount you can rob = 1 + 3 = 4.\n",
    "# Example 2:\n",
    "\n",
    "# Input: nums = [2,7,9,3,1]\n",
    "# Output: 12\n",
    "# Explanation: Rob house 1 (money = 2), rob house 3 (money = 9) and rob house 5 (money = 1).\n",
    "# Total amount you can rob = 2 + 9 + 1 = 12."
   ]
  },
  {
   "cell_type": "code",
   "execution_count": 4,
   "metadata": {},
   "outputs": [
    {
     "data": {
      "text/plain": [
       "4"
      ]
     },
     "execution_count": 4,
     "metadata": {},
     "output_type": "execute_result"
    }
   ],
   "source": [
    "# optimal\n",
    "def rob(nums):\n",
    "    rob1,rob2=0,0\n",
    "    # [rob1,rob2,n,n+1,...]\n",
    "    for n in nums:\n",
    "        temp=max(n+rob1,rob2)\n",
    "        rob1= rob2\n",
    "        rob2= temp\n",
    "    return rob2  \n",
    "nums = [1,2,3,1]\n",
    "rob(nums)     "
   ]
  },
  {
   "cell_type": "code",
   "execution_count": null,
   "metadata": {},
   "outputs": [],
   "source": [
    "# brute force\n",
    "def rob(self, nums: List[int]) -> int:\n",
    "    max_money = nums[0]\n",
    "    \n",
    "    # We can also save space if we use nums itself as the dp table, replacing\n",
    "    # values as we go\n",
    "    \n",
    "    for i in range(1, len(nums)):\n",
    "        max_prev = nums[i]\n",
    "        for j in range(0, i - 1):\n",
    "            max_prev = max(max_prev, nums[j] + nums[i])\n",
    "        nums[i] = max_prev\n",
    "        max_money = max(max_money, nums[i])\n",
    "    return max_money\n",
    "\n"
   ]
  }
 ],
 "metadata": {
  "interpreter": {
   "hash": "63fd5069d213b44bf678585dea6b12cceca9941eaf7f819626cde1f2670de90d"
  },
  "kernelspec": {
   "display_name": "Python 3.9.7 64-bit",
   "language": "python",
   "name": "python3"
  },
  "language_info": {
   "codemirror_mode": {
    "name": "ipython",
    "version": 3
   },
   "file_extension": ".py",
   "mimetype": "text/x-python",
   "name": "python",
   "nbconvert_exporter": "python",
   "pygments_lexer": "ipython3",
   "version": "3.9.7"
  },
  "orig_nbformat": 4
 },
 "nbformat": 4,
 "nbformat_minor": 2
}
