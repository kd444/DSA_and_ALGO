{
 "cells": [
  {
   "cell_type": "code",
   "execution_count": null,
   "metadata": {},
   "outputs": [],
   "source": [
    "def combinationSum4(self, nums, target):\n",
    "    dp={0:1}\n",
    "    \n",
    "    for total in range(1,target +1):\n",
    "        dp[total]=0\n",
    "        for n in nums:\n",
    "            dp[total] += dp.get(total-n,0)\n",
    "    return dp[target]        \n",
    "    "
   ]
  }
 ],
 "metadata": {
  "language_info": {
   "name": "python"
  },
  "orig_nbformat": 4
 },
 "nbformat": 4,
 "nbformat_minor": 2
}
