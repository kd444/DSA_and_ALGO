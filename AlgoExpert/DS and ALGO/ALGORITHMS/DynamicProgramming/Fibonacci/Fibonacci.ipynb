{
 "cells": [
  {
   "cell_type": "code",
   "execution_count": null,
   "metadata": {},
   "outputs": [],
   "source": [
    "\n",
    "def fib(self, n: int,memo={}) -> int:\n",
    "    if n==0:\n",
    "        return 0\n",
    "    elif n==1:\n",
    "        return 1\n",
    "    else:\n",
    "        if n in memo:\n",
    "            return memo[n]\n",
    "        else:\n",
    "            result = self.fib(n-1, memo) + self.fib(n-2,memo)\n",
    "            memo[n]=result \n",
    "            return result \n",
    "        "
   ]
  }
 ],
 "metadata": {
  "language_info": {
   "name": "python"
  },
  "orig_nbformat": 4
 },
 "nbformat": 4,
 "nbformat_minor": 2
}
