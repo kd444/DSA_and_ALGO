{
 "cells": [
  {
   "cell_type": "code",
   "execution_count": null,
   "metadata": {},
   "outputs": [],
   "source": [
    "def wordBreak(self,s,wordDict):\n",
    "    dp =[False]*(len(s)+1)\n",
    "    dp[len(s)]=True\n",
    "\n",
    "    for i in range(len(s)-1,-1,-1):\n",
    "        for w in wordDict:\n",
    "            if(i+ len(w))<= len(s) and s[i:i+len(w)]==w:\n",
    "                dp[i]= dp[i+len(w)]\n",
    "            if(dp[i]):\n",
    "                break    \n",
    "    return dp"
   ]
  }
 ],
 "metadata": {
  "language_info": {
   "name": "python"
  },
  "orig_nbformat": 4
 },
 "nbformat": 4,
 "nbformat_minor": 2
}
