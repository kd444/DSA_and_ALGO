{
 "cells": [
  {
   "cell_type": "code",
   "execution_count": null,
   "metadata": {},
   "outputs": [],
   "source": [
    "def reverseBits(self, n) :\n",
    "    res = 0\n",
    "    for i in range (32):\n",
    "        bit = (n >> i) & 1\n",
    "        res = res | (bit << (31 - i))\n",
    "    return res"
   ]
  }
 ],
 "metadata": {
  "language_info": {
   "name": "python"
  },
  "orig_nbformat": 4
 },
 "nbformat": 4,
 "nbformat_minor": 2
}
