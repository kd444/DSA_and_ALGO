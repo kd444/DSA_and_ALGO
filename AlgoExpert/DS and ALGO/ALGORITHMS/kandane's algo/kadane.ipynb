{
 "cells": [
  {
   "cell_type": "code",
   "execution_count": 7,
   "metadata": {},
   "outputs": [
    {
     "data": {
      "text/plain": [
       "6"
      ]
     },
     "execution_count": 7,
     "metadata": {},
     "output_type": "execute_result"
    }
   ],
   "source": [
    "def maxSubArray( nums):\n",
    "    maxEndingHere =  nums[0]\n",
    "    maxSoFar = nums[0]\n",
    "    for i in range(1,len(nums)):\n",
    "        num = nums[i]\n",
    "        # max of iterating term and \n",
    "        maxEndingHere = max(num,maxEndingHere+ num)\n",
    "        maxSoFar= max(maxSoFar,maxEndingHere)\n",
    "    return maxSoFar    \n",
    "    \n",
    "nums = [-2,1,-3,4,-1,2,1,-5,4]\n",
    "maxSubArray(nums)"
   ]
  },
  {
   "cell_type": "code",
   "execution_count": 8,
   "metadata": {},
   "outputs": [
    {
     "data": {
      "text/plain": [
       "4"
      ]
     },
     "execution_count": 8,
     "metadata": {},
     "output_type": "execute_result"
    }
   ],
   "source": [
    "max(-2,1,-3,4,-1,2,1,-5,4)"
   ]
  },
  {
   "cell_type": "code",
   "execution_count": null,
   "metadata": {},
   "outputs": [],
   "source": [
    "# explanation\n",
    "# maximum subarray solution\n",
    "# curent number or prevous sum(prevous max ending) or current number \n"
   ]
  },
  {
   "cell_type": "code",
   "execution_count": 10,
   "metadata": {},
   "outputs": [
    {
     "name": "stdout",
     "output_type": "stream",
     "text": [
      "Maximum contiguous sum is -3\n"
     ]
    }
   ],
   "source": [
    "# Python program to find maximum contiguous subarray\n",
    "  \n",
    "# Function to find the maximum contiguous subarray\n",
    "from math import inf\n",
    "maxint=inf\n",
    "\n",
    "def maxSubArray( nums):\n",
    "    # for max negative number case\n",
    "    ans = -inf\n",
    "    for i in range(len(nums)):\n",
    "        cur_sum = 0\n",
    "        for j in range(i, len(nums)):\n",
    "            cur_sum += nums[j]\n",
    "            ans = max(ans, cur_sum)\n",
    "    return ans\n",
    "\n",
    "# Driver function to check the above function\n",
    "a = [-13, -3, -25, -20, -3, -16, -23, -12, -5, -22, -15, -4, -7]\n",
    "print (\"Maximum contiguous sum is\", maxSubArray(a))\n",
    "  \n"
   ]
  },
  {
   "cell_type": "code",
   "execution_count": null,
   "metadata": {},
   "outputs": [],
   "source": [
    "# # other notes \n",
    "# What does math INF mean in Python?\n",
    "# floating-point positive infinity\n",
    "# The math. inf constant returns a floating-point positive infinity. \n",
    "# For negative infinity, \n",
    "# use -math. inf . \n",
    "# The inf constant is equivalent to float('inf') ."
   ]
  },
  {
   "cell_type": "code",
   "execution_count": null,
   "metadata": {},
   "outputs": [],
   "source": []
  }
 ],
 "metadata": {
  "interpreter": {
   "hash": "63fd5069d213b44bf678585dea6b12cceca9941eaf7f819626cde1f2670de90d"
  },
  "kernelspec": {
   "display_name": "Python 3.9.7 64-bit",
   "language": "python",
   "name": "python3"
  },
  "language_info": {
   "codemirror_mode": {
    "name": "ipython",
    "version": 3
   },
   "file_extension": ".py",
   "mimetype": "text/x-python",
   "name": "python",
   "nbconvert_exporter": "python",
   "pygments_lexer": "ipython3",
   "version": "3.9.7"
  },
  "orig_nbformat": 4
 },
 "nbformat": 4,
 "nbformat_minor": 2
}
