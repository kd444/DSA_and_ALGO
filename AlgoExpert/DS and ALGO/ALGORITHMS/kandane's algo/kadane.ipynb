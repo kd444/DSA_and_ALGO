{
 "cells": [
  {
   "cell_type": "code",
   "execution_count": 7,
   "metadata": {},
   "outputs": [
    {
     "data": {
      "text/plain": [
       "6"
      ]
     },
     "execution_count": 7,
     "metadata": {},
     "output_type": "execute_result"
    }
   ],
   "source": [
    "def maxSubArray( nums):\n",
    "    maxEndingHere =  nums[0]\n",
    "    maxSoFar = nums[0]\n",
    "    for i in range(1,len(nums)):\n",
    "        num = nums[i]\n",
    "        maxEndingHere = max(num,maxEndingHere+ num)\n",
    "        maxSoFar= max(maxSoFar,maxEndingHere)\n",
    "    return maxSoFar    \n",
    "    \n",
    "nums = [-2,1,-3,4,-1,2,1,-5,4]\n",
    "maxSubArray(nums)"
   ]
  },
  {
   "cell_type": "code",
   "execution_count": 8,
   "metadata": {},
   "outputs": [
    {
     "data": {
      "text/plain": [
       "4"
      ]
     },
     "execution_count": 8,
     "metadata": {},
     "output_type": "execute_result"
    }
   ],
   "source": [
    "max(-2,1,-3,4,-1,2,1,-5,4)"
   ]
  },
  {
   "cell_type": "code",
   "execution_count": null,
   "metadata": {},
   "outputs": [],
   "source": [
    "# explanation\n",
    "curent number or prevous sum(prevous max ending) or current number \n"
   ]
  }
 ],
 "metadata": {
  "interpreter": {
   "hash": "63fd5069d213b44bf678585dea6b12cceca9941eaf7f819626cde1f2670de90d"
  },
  "kernelspec": {
   "display_name": "Python 3.9.7 64-bit",
   "language": "python",
   "name": "python3"
  },
  "language_info": {
   "codemirror_mode": {
    "name": "ipython",
    "version": 3
   },
   "file_extension": ".py",
   "mimetype": "text/x-python",
   "name": "python",
   "nbconvert_exporter": "python",
   "pygments_lexer": "ipython3",
   "version": "3.9.7"
  },
  "orig_nbformat": 4
 },
 "nbformat": 4,
 "nbformat_minor": 2
}
