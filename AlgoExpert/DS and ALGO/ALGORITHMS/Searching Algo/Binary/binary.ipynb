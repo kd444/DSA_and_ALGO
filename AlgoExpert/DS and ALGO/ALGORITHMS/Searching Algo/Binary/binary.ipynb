{
 "cells": [
  {
   "cell_type": "code",
   "execution_count": 1,
   "metadata": {},
   "outputs": [],
   "source": [
    "def binarySearch(array,target):\n",
    "    return binarySearchHelper(array,target,0,len(array)-1)\n",
    "def binarySearchHelper(array,target,left,right):\n",
    "    if left >right:\n",
    "        return -1\n",
    "    middle=(left + right )//2\n",
    "    potentialMatch = array[middle]\n",
    "    if target == potentialMatch:\n",
    "        return middle\n",
    "    elif target < potentialMatch:\n",
    "        return binarySearchHelper(array,target,left,middle-1)\n",
    "    else:\n",
    "        return binarySearchHelper(array,target ,middle+1,right)    \n"
   ]
  },
  {
   "cell_type": "code",
   "execution_count": null,
   "metadata": {},
   "outputs": [],
   "source": [
    "class Solution:\n",
    "    def search(self, nums: List[int], target: int) -> int:\n",
    "        left = 0\n",
    "        right = len(nums) - 1\n",
    "        \n",
    "        while right >= left:\n",
    "            mid = (left + right)//2\n",
    "            if nums[mid] == target:\n",
    "                return mid\n",
    "            elif nums[mid] > target :\n",
    "                right = mid - 1\n",
    "            else:\n",
    "                left = mid + 1\n",
    "        return(-1)        \n",
    "            \n",
    "            "
   ]
  }
 ],
 "metadata": {
  "kernelspec": {
   "display_name": "Python 3",
   "language": "python",
   "name": "python3"
  },
  "language_info": {
   "codemirror_mode": {
    "name": "ipython",
    "version": 3
   },
   "file_extension": ".py",
   "mimetype": "text/x-python",
   "name": "python",
   "nbconvert_exporter": "python",
   "pygments_lexer": "ipython3",
   "version": "3.11.1 (tags/v3.11.1:a7a450f, Dec  6 2022, 19:58:39) [MSC v.1934 64 bit (AMD64)]"
  },
  "orig_nbformat": 4,
  "vscode": {
   "interpreter": {
    "hash": "5ba7945501ac0043537008d071a51b86055387186b144470a272cd6fe7a11283"
   }
  }
 },
 "nbformat": 4,
 "nbformat_minor": 2
}
