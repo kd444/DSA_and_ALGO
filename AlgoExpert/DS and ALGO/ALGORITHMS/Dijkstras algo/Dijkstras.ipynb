{
 "cells": [
  {
   "cell_type": "code",
   "execution_count": null,
   "metadata": {},
   "outputs": [],
   "source": [
    "# used in network delay time\n",
    "# find the shortest distance shortest path between starting node to all the other nodes\n",
    "# keeps track of what its already seen \n",
    "\n",
    "\n"
   ]
  }
 ],
 "metadata": {
  "language_info": {
   "name": "python"
  },
  "orig_nbformat": 4
 },
 "nbformat": 4,
 "nbformat_minor": 2
}
