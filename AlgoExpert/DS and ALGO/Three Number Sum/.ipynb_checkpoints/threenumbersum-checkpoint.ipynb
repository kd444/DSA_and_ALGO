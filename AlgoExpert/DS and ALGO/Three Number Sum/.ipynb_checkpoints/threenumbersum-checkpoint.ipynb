{
 "cells": [
  {
   "cell_type": "code",
   "execution_count": 1,
   "metadata": {},
   "outputs": [
    {
     "name": "stdout",
     "output_type": "stream",
     "text": [
      "0\n",
      "0\n",
      "0\n",
      "0\n",
      "0\n",
      "0\n",
      "0\n"
     ]
    }
   ],
   "source": [
    "array = [12,3,1,2,-6,5,-8,6]\n",
    "targetSum=0\n",
    "def threeNumberSum(array, targetSum):\n",
    "    for i in range(len(array)):\n",
    "         for j in range(i+1,len(array)):\n",
    "            for k in range(i+2,len(array)):\n",
    "                if(array[i]+array[j]+array[k]==targetSum):\n",
    "                    print(array[i]+array[j]+array[k])\n",
    "\n",
    "\n",
    "threeNumberSum(array,targetSum)\n",
    "    "
   ]
  },
  {
   "cell_type": "code",
   "execution_count": 1,
   "metadata": {},
   "outputs": [],
   "source": [
    "def threeNumberSum(array, targetSum):\n",
    "    array.sort()\n",
    "    triplets = []\n",
    "    for i in range(len(array)-2):\n",
    "        left = i + 1 \n",
    "        right =len(array) -1\n",
    "        while left < right:\n",
    "            currentSum = array[i]+ array[left] +array[right]\n",
    "            if currentSum == targetSum:\n",
    "                triplets.append([array[i],array[left],array[right]])\n",
    "                left +=1\n",
    "                right -=1\n",
    "            elif currentSum < targetSum:\n",
    "                left +=1\n",
    "            elif currentSum > targetSum:\n",
    "                right -=1\n",
    "    return triplets\n",
    "\n"
   ]
  },
  {
   "cell_type": "code",
   "execution_count": null,
   "metadata": {},
   "outputs": [],
   "source": [
    "-8-6+12\n",
    "=-2\n",
    "which is less than 0 our target sum \n",
    "\n",
    "len(Array)-2\n",
    "because first value should only go \n",
    "till last third as rest 2 values are left and right pointers and all are triplets togther"
   ]
  }
 ],
 "metadata": {
  "interpreter": {
   "hash": "63fd5069d213b44bf678585dea6b12cceca9941eaf7f819626cde1f2670de90d"
  },
  "kernelspec": {
   "display_name": "Python 3",
   "language": "python",
   "name": "python3"
  },
  "language_info": {
   "codemirror_mode": {
    "name": "ipython",
    "version": 3
   },
   "file_extension": ".py",
   "mimetype": "text/x-python",
   "name": "python",
   "nbconvert_exporter": "python",
   "pygments_lexer": "ipython3",
   "version": "3.8.8"
  }
 },
 "nbformat": 4,
 "nbformat_minor": 2
}
