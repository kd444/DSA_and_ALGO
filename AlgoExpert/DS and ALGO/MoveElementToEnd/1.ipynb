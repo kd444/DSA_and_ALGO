{
 "cells": [
  {
   "cell_type": "code",
   "execution_count": 1,
   "metadata": {},
   "outputs": [],
   "source": [
    "array= [2,1,2,2,2,3,4,2]\n",
    "toMove=2\n",
    "def moveElementToEnd(array, toMove):\n",
    "    i=0\n",
    "    j=len(array) -1 \n",
    "    while i<j:\n",
    "        while i<j and array[j] == toMove:\n",
    "#             take the next value if  array[j] == toMove\n",
    "            j -=1 \n",
    "        if array[i] == toMove:\n",
    "            array[i],array[j] = array[j], array[i]\n",
    "        i+=1   \n",
    "    return array     \n",
    "        "
   ]
  },
  {
   "cell_type": "code",
   "execution_count": 2,
   "metadata": {},
   "outputs": [
    {
     "data": {
      "text/plain": [
       "[4, 1, 3, 2, 2, 2, 2, 2]"
      ]
     },
     "execution_count": 2,
     "metadata": {},
     "output_type": "execute_result"
    }
   ],
   "source": [
    "moveElementToEnd(array, toMove)"
   ]
  },
  {
   "cell_type": "code",
   "execution_count": null,
   "metadata": {},
   "outputs": [],
   "source": []
  }
 ],
 "metadata": {
  "interpreter": {
   "hash": "63fd5069d213b44bf678585dea6b12cceca9941eaf7f819626cde1f2670de90d"
  },
  "kernelspec": {
   "display_name": "Python 3",
   "language": "python",
   "name": "python3"
  },
  "language_info": {
   "codemirror_mode": {
    "name": "ipython",
    "version": 3
   },
   "file_extension": ".py",
   "mimetype": "text/x-python",
   "name": "python",
   "nbconvert_exporter": "python",
   "pygments_lexer": "ipython3",
   "version": "3.9.7"
  }
 },
 "nbformat": 4,
 "nbformat_minor": 2
}
