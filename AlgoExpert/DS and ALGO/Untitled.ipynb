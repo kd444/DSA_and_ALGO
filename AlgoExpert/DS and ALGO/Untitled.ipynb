{
 "cells": [
  {
   "cell_type": "code",
   "execution_count": 34,
   "id": "adb1c953",
   "metadata": {},
   "outputs": [
    {
     "name": "stdout",
     "output_type": "stream",
     "text": [
      "-1 26 27\n",
      "-1 15 16\n",
      "5 15 10\n",
      "10 15 5\n",
      "20 17 3\n",
      "28 26 2\n"
     ]
    },
    {
     "data": {
      "text/plain": [
       "[28, 26]"
      ]
     },
     "execution_count": 34,
     "metadata": {},
     "output_type": "execute_result"
    }
   ],
   "source": [
    "# mine\n",
    "def smallestDifference(arrayOne, arrayTwo):\n",
    "    arr=[0,1]\n",
    "    inDiff=float(\"inf\")\n",
    "    # Write your code here.\n",
    "    for x in arrayOne:   \n",
    "        for y in arrayTwo:\n",
    "            \n",
    "            if (abs(x-y) < abs(inDiff)):               \n",
    "                inDiff=abs(x-y)\n",
    "                print(x,y,inDiff)\n",
    "                a=x\n",
    "                b=y    \n",
    "                arr[0]=a\n",
    "                arr[1]=b\n",
    "    return arr\n",
    "smallestDifference([-1, 5, 10, 20, 28, 3], [26, 134, 135, 15, 17])    "
   ]
  },
  {
   "cell_type": "markdown",
   "id": "7abd17e8",
   "metadata": {},
   "source": []
  },
  {
   "cell_type": "code",
   "execution_count": null,
   "id": "2f90de89",
   "metadata": {},
   "outputs": [],
   "source": [
    "print(\"testing\")\n"
   ]
  },
  {
   "cell_type": "code",
   "execution_count": null,
   "id": "6dd2d5b5",
   "metadata": {},
   "outputs": [],
   "source": []
  }
 ],
 "metadata": {
  "kernelspec": {
   "display_name": "Python 3",
   "language": "python",
   "name": "python3"
  },
  "language_info": {
   "codemirror_mode": {
    "name": "ipython",
    "version": 3
   },
   "file_extension": ".py",
   "mimetype": "text/x-python",
   "name": "python",
   "nbconvert_exporter": "python",
   "pygments_lexer": "ipython3",
   "version": "3.8.8"
  }
 },
 "nbformat": 4,
 "nbformat_minor": 5
}
