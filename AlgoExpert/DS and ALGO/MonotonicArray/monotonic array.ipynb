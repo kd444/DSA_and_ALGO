{
 "cells": [
  {
   "cell_type": "code",
   "execution_count": 3,
   "metadata": {},
   "outputs": [],
   "source": [
    "def isMonotonic(array):\n",
    "    if len(array) <=2 :\n",
    "        return True\n",
    "    direction = array[1]-array[0]  \n",
    "    for i in range(2, len(array)):\n",
    "        if direction == 0:\n",
    "            direction = array[i]- array[i-1]\n",
    "            continue \n",
    "        if breaksDirection(direction,array[i-1],array[i]):\n",
    "            return False\n",
    "    return True\n",
    "def breaksDirection(direction,previousInt,currentInt):\n",
    "    difference =  currentInt - previousInt\n",
    "    if direction > 0 :\n",
    "        return difference < 0\n",
    "    return difference > 0    \n",
    "            \n"
   ]
  },
  {
   "cell_type": "code",
   "execution_count": 4,
   "metadata": {},
   "outputs": [],
   "source": [
    "# if one or two we already know its monotonic"
   ]
  },
  {
   "cell_type": "code",
   "execution_count": null,
   "metadata": {},
   "outputs": [],
   "source": []
  }
 ],
 "metadata": {
  "interpreter": {
   "hash": "63fd5069d213b44bf678585dea6b12cceca9941eaf7f819626cde1f2670de90d"
  },
  "kernelspec": {
   "display_name": "Python 3.9.7 64-bit",
   "language": "python",
   "name": "python3"
  },
  "language_info": {
   "codemirror_mode": {
    "name": "ipython",
    "version": 3
   },
   "file_extension": ".py",
   "mimetype": "text/x-python",
   "name": "python",
   "nbconvert_exporter": "python",
   "pygments_lexer": "ipython3",
   "version": "3.9.7"
  },
  "orig_nbformat": 4
 },
 "nbformat": 4,
 "nbformat_minor": 2
}
