{
 "cells": [
  {
   "cell_type": "code",
   "execution_count": 13,
   "metadata": {},
   "outputs": [
    {
     "name": "stdout",
     "output_type": "stream",
     "text": [
      "Electronics\n",
      "  Laptop\n",
      "    Mac\n",
      "    Surface\n",
      "  Cell Phone\n",
      "    Google pixel\n",
      "    iphone\n"
     ]
    }
   ],
   "source": [
    "class Treenode:\n",
    "    def __init__(self,data):\n",
    "        self.data=data \n",
    "        self.children =[]\n",
    "        self.parent = None \n",
    "    \n",
    "    def add_child(self,child):\n",
    " # whenever u r adding a child ur adding child to self object and that self will become parent of that child \n",
    "        child.parent = self \n",
    "        self.children.append(child)\n",
    "\n",
    "    def print_tree(self, level=0):\n",
    "        # Print the current node with an indentation based on its level in the tree\n",
    "        print(\"  \" * level + self.data)\n",
    "        # Recursively print the children\n",
    "        for child in self.children:\n",
    "            child.print_tree(level + 1)\n",
    "\n",
    "def build_product_tree():\n",
    "    # adding tree nodes \n",
    "    root = Treenode(\"Electronics\")\n",
    "\n",
    "    laptop = Treenode(\"Laptop\")\n",
    "   #  establishes the parent-child relationship\n",
    "    laptop.add_child(Treenode(\"Mac\"))\n",
    "    laptop.add_child(Treenode(\"Surface\"))\n",
    "\n",
    "\n",
    "    cellphone = Treenode(\"Cell Phone\")\n",
    "    cellphone.add_child(Treenode(\"Google pixel\"))\n",
    "    cellphone.add_child(Treenode(\"iphone\"))\n",
    "\n",
    "#    adding nodes to the main root\n",
    "    root.add_child(laptop)\n",
    "    root.add_child(cellphone)\n",
    "    return root \n",
    "\n",
    "#  checks whether the script is being run as the main program \n",
    "if __name__ =='__main__':\n",
    "    root = build_product_tree()\n",
    "    root.print_tree()\n",
    "\n",
    "\n",
    "    "
   ]
  },
  {
   "cell_type": "code",
   "execution_count": null,
   "metadata": {},
   "outputs": [],
   "source": [
    "# Binary Search Tree, is an ordered Binary Tree with structurally arranged nodes"
   ]
  }
 ],
 "metadata": {
  "kernelspec": {
   "display_name": "Python 3",
   "language": "python",
   "name": "python3"
  },
  "language_info": {
   "codemirror_mode": {
    "name": "ipython",
    "version": 3
   },
   "file_extension": ".py",
   "mimetype": "text/x-python",
   "name": "python",
   "nbconvert_exporter": "python",
   "pygments_lexer": "ipython3",
   "version": "3.11.4"
  },
  "orig_nbformat": 4
 },
 "nbformat": 4,
 "nbformat_minor": 2
}
