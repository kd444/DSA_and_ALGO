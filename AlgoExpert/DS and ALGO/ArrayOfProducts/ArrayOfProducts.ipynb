{
 "cells": [
  {
   "cell_type": "code",
   "execution_count": 20,
   "metadata": {},
   "outputs": [
    {
     "ename": "SyntaxError",
     "evalue": "invalid syntax (Temp/ipykernel_11648/3572711073.py, line 5)",
     "output_type": "error",
     "traceback": [
      "\u001b[1;36m  File \u001b[1;32m\"C:\\Users\\ACER\\AppData\\Local\\Temp/ipykernel_11648/3572711073.py\"\u001b[1;36m, line \u001b[1;32m5\u001b[0m\n\u001b[1;33m    for i in range(len(array)):\u001b[0m\n\u001b[1;37m                              ^\u001b[0m\n\u001b[1;31mSyntaxError\u001b[0m\u001b[1;31m:\u001b[0m invalid syntax\n"
     ]
    }
   ],
   "source": [
    "#brute fprce \n",
    "array=[1,2,3,34,5,66]\n",
    "def arrayOfProducts(array):\n",
    "    products= [  [1 for _ in range(len(array))]\n",
    "    for i in range(len(array)):\n",
    "        runningProduct=1\n",
    "        for j in range(len(array)):\n",
    "            if i !=j:\n",
    "                runningProduct *= array[j]\n",
    "        products[i]=runningProduct\n",
    "    return products            \n",
    "\n",
    "\n",
    "\n",
    "print(products)"
   ]
  },
  {
   "cell_type": "code",
   "execution_count": 14,
   "metadata": {},
   "outputs": [
    {
     "data": {
      "text/plain": [
       "[1, 1, 1, 1, 1, 1]"
      ]
     },
     "execution_count": 14,
     "metadata": {},
     "output_type": "execute_result"
    }
   ],
   "source": [
    "array=[1,2,3,34,5,66]\n",
    "\n",
    "[1 for _ in range(len(array))]"
   ]
  },
  {
   "cell_type": "code",
   "execution_count": 2,
   "metadata": {},
   "outputs": [
    {
     "data": {
      "text/plain": [
       "[24, 12, 8, 6]"
      ]
     },
     "execution_count": 2,
     "metadata": {},
     "output_type": "execute_result"
    }
   ],
   "source": [
    "def arrayOfProducts(array):\n",
    "    products= [1 for _ in range(len(array))]\n",
    "    leftRunningProduct =1 \n",
    "    for i in range(len(array)):\n",
    "        products[i]=leftRunningProduct\n",
    "        leftRunningProduct *= array[i]\n",
    "    rightRunningProduct =1 \n",
    "    for i in reversed(range(len(array))):\n",
    "        products[i]*=rightRunningProduct\n",
    "        rightRunningProduct *= array[i]\n",
    "    return products \n",
    "\n",
    "array = [1,2,3,4]    \n",
    "arrayOfProducts(array)"
   ]
  },
  {
   "cell_type": "code",
   "execution_count": null,
   "metadata": {},
   "outputs": [],
   "source": []
  }
 ],
 "metadata": {
  "interpreter": {
   "hash": "63fd5069d213b44bf678585dea6b12cceca9941eaf7f819626cde1f2670de90d"
  },
  "kernelspec": {
   "display_name": "Python 3.9.7 64-bit",
   "language": "python",
   "name": "python3"
  },
  "language_info": {
   "codemirror_mode": {
    "name": "ipython",
    "version": 3
   },
   "file_extension": ".py",
   "mimetype": "text/x-python",
   "name": "python",
   "nbconvert_exporter": "python",
   "pygments_lexer": "ipython3",
   "version": "3.9.7"
  },
  "orig_nbformat": 4
 },
 "nbformat": 4,
 "nbformat_minor": 2
}
