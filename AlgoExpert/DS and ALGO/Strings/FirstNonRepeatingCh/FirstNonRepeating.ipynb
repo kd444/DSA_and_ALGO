{
 "cells": [
  {
   "cell_type": "code",
   "execution_count": 5,
   "metadata": {},
   "outputs": [
    {
     "name": "stdout",
     "output_type": "stream",
     "text": [
      "0 5\n",
      "2 4\n",
      "4 2\n",
      "5 0\n"
     ]
    }
   ],
   "source": [
    "# brute force approach\n",
    "def firstNonRepeatingCharacter(string):\n",
    "\tfor idx in range(len(string)):\n",
    "\t\tfoundDuplicate=False\n",
    "\t\tfor idx1 in range(len(string)):\n",
    "\t\t\tif string[idx]==string[idx1] and idx!=idx1:\n",
    "\t\t\t\tfoundDuplicate=True\n",
    "\t\tif not foundDuplicate:\n",
    "\t\t\treturn idx\n",
    "\treturn -1\t\n",
    "       \n",
    "string =  \"abcdcaf\"\n",
    "firstNonRepeatingCharacter(string)        "
   ]
  },
  {
   "cell_type": "code",
   "execution_count": null,
   "metadata": {},
   "outputs": [],
   "source": [
    "# brute force explanantion \n",
    "# two index if value at that index is eqaul to other and both are mot same\n",
    "# that means the character is repeating and change the flag to true\n",
    "# if flag is true that means duplicate found ,so if not true that is\n",
    "#  the unique index\n"
   ]
  },
  {
   "cell_type": "code",
   "execution_count": null,
   "metadata": {},
   "outputs": [],
   "source": [
    "# .get will look into dictionary for character key does not\n",
    "#  exist will return 0 or return value4 associated with this character key "
   ]
  },
  {
   "cell_type": "code",
   "execution_count": 7,
   "metadata": {},
   "outputs": [
    {
     "data": {
      "text/plain": [
       "1"
      ]
     },
     "execution_count": 7,
     "metadata": {},
     "output_type": "execute_result"
    }
   ],
   "source": [
    "def firstNonRepeatingCharacter(string):\n",
    "    characterFrequencies ={}\n",
    "\n",
    "    for  character in string:\n",
    "        characterFrequencies[character]= characterFrequencies.get(character,0)+1\n",
    "    for idx in range(len(string)):\n",
    "        character = string[idx]\n",
    "        if characterFrequencies[character] ==1:\n",
    "            return idx \n",
    "    return -1        \n",
    "string =  \"abcdcaf\"\n",
    "firstNonRepeatingCharacter(string) "
   ]
  },
  {
   "cell_type": "code",
   "execution_count": null,
   "metadata": {},
   "outputs": [],
   "source": []
  }
 ],
 "metadata": {
  "interpreter": {
   "hash": "63fd5069d213b44bf678585dea6b12cceca9941eaf7f819626cde1f2670de90d"
  },
  "kernelspec": {
   "display_name": "Python 3.9.7 64-bit",
   "language": "python",
   "name": "python3"
  },
  "language_info": {
   "codemirror_mode": {
    "name": "ipython",
    "version": 3
   },
   "file_extension": ".py",
   "mimetype": "text/x-python",
   "name": "python",
   "nbconvert_exporter": "python",
   "pygments_lexer": "ipython3",
   "version": "3.9.7"
  },
  "orig_nbformat": 4
 },
 "nbformat": 4,
 "nbformat_minor": 2
}
