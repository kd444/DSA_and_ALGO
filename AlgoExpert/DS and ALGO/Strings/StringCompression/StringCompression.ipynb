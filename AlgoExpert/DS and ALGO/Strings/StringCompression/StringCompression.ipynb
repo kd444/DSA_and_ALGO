{
 "cells": [
  {
   "cell_type": "code",
   "execution_count": null,
   "metadata": {},
   "outputs": [],
   "source": [
    "Input: chars = [\"a\",\"a\",\"b\",\"b\",\"c\",\"c\",\"c\"]\n",
    "Output: Return 6, and the first 6 characters of the input array should be: [\"a\",\"2\",\"b\",\"2\",\"c\",\"3\"]\n",
    "Explanation: The groups are \"aa\", \"bb\", and \"ccc\". This compresses to \"a2b2c3\".\n"
   ]
  },
  {
   "cell_type": "code",
   "execution_count": null,
   "metadata": {},
   "outputs": [],
   "source": [
    "Input: chars = [\"a\",\"b\",\"b\",\"b\",\"b\",\"b\",\"b\",\"b\",\"b\",\"b\",\"b\",\"b\",\"b\"]\n",
    "Output: Return 4, and the first 4 characters of the input array should be: [\"a\",\"b\",\"1\",\"2\"].\n",
    "Explanation: The groups are \"a\" and \"bbbbbbbbbbbb\". This compresses to \"ab12\"."
   ]
  },
  {
   "cell_type": "code",
   "execution_count": 33,
   "metadata": {},
   "outputs": [
    {
     "name": "stdout",
     "output_type": "stream",
     "text": [
      "AAAAAAAAAAAAABBCCCCDD\n",
      "['A', '1', '3', 'B', '2', 'C', '4', 'D', '2']\n",
      "9\n"
     ]
    }
   ],
   "source": [
    "def StringCompression(string1):\n",
    "    currentlength=1\n",
    "    print(string1)\n",
    "    chars=[]\n",
    "    for i in range(1,len(string1)):\n",
    "        if string1[i]!=string1[i-1]:\n",
    "            chars.append(string1[i-1])\n",
    "            \n",
    "            if(currentlength>10):\n",
    "                for char in (str(currentlength)):\n",
    "                    chars.append(char)\n",
    "            else:\n",
    "                chars.append(str(currentlength))        \n",
    "            currentlength=0      \n",
    "        currentlength+=1 \n",
    "    chars.append(string1[len(string1)-1])\n",
    "    chars.append(str(currentlength))\n",
    "    print(chars)\n",
    "    print(len(chars))\n",
    "string1= \"CAAAAAAAAAAAAABBCCCCDD\"\n",
    "StringCompression(string1)    \n",
    "\n"
   ]
  },
  {
   "cell_type": "code",
   "execution_count": null,
   "metadata": {},
   "outputs": [],
   "source": []
  }
 ],
 "metadata": {
  "interpreter": {
   "hash": "63fd5069d213b44bf678585dea6b12cceca9941eaf7f819626cde1f2670de90d"
  },
  "kernelspec": {
   "display_name": "Python 3.9.7 64-bit",
   "language": "python",
   "name": "python3"
  },
  "language_info": {
   "name": "python",
   "version": "3.9.7"
  },
  "orig_nbformat": 4
 },
 "nbformat": 4,
 "nbformat_minor": 2
}
